{
  "cells": [
    {
      "cell_type": "code",
      "execution_count": 1,
      "metadata": {},
      "outputs": [],
      "source": [
        "%load_ext autoreload\n",
        "%autoreload 2"
      ]
    },
    {
      "cell_type": "markdown",
      "metadata": {
        "id": "B2IywWxOUQBV"
      },
      "source": [
        "# Exercise 3: Clinical notes and natural language processing\n",
        "\n",
        "\n",
        "In this exercice we introduce an important new category of data, **clinical notes**, along with **eds-nlp** (see [doc](https://aphp.github.io/edsnlp)) a scientific library that facilitates the definition of NLP algorithms for French clinical texts.\n",
        "\n",
        "The use case consists of validating/completing the drug table. Indeed, we fear that natively structured data on drugs are incomplete leading to patients being falsely included in the control cohort although they had a drug administred. We make the assumption that textual data contained in clinical notes are complete as it is well known that care professionals extensively use this format to record information.\n",
        "\n",
        "In this exercice, we will :\n",
        "1. Find drug administration for patients using NLP methods\n",
        "2. Compare the Kaplan Meyer curves obtained using or not NLP algorithms to identify drugs.\n",
        "\n",
        "We initialize the notebook by importing the following libraries:"
      ]
    },
    {
      "cell_type": "code",
      "execution_count": 2,
      "metadata": {
        "id": "lVVFtbdCUQBW",
        "tags": []
      },
      "outputs": [],
      "source": [
        "import pandas as pd\n",
        "import numpy as np\n",
        "\n",
        "# Visualization library\n",
        "import altair as alt\n",
        "alt.data_transformers.enable('default', max_rows=None)\n",
        "\n",
        "# Dates management\n",
        "import datetime\n",
        "\n",
        "# For the computation of Kaplan-Meier estimates and log-rank tests\n",
        "import lifelines"
      ]
    },
    {
      "cell_type": "markdown",
      "metadata": {
        "id": "XbI_wmrJUQBX"
      },
      "source": [
        " # Table of content"
      ]
    },
    {
      "cell_type": "markdown",
      "metadata": {
        "id": "SFPzQR8sUQBX"
      },
      "source": [
        "# 1. Data Exploration\n",
        "\n",
        "A fake dataset that mimics data coming from a clinical information system is made available in the */data* folder of this exercise.\n",
        "<br>For this study, data has been extracted from the Clinical Data Warehouse on December 1st, 2025.\n",
        "<br>The same data than in exercice 1 is imported\n",
        "\n",
        "## 1.1 Data extracted from the Clinical Data Warehouse\n",
        "\n",
        "Open the following files using the `pandas.read_pickle()` function :\n",
        "  - *data/df_person.pkl* as `df_person`\n",
        "  - *data/df_visit.pkl* as `df_visit`\n",
        "  - *data/df_condition.pkl* as `df_cond`\n",
        "  - *data/df_med.pkl* as `df_med`"
      ]
    },
    {
      "cell_type": "code",
      "execution_count": 3,
      "metadata": {
        "id": "wkE8u1gJUQBX",
        "tags": []
      },
      "outputs": [],
      "source": [
        "# Patients\n",
        "df_person = pd.read_pickle('data/df_person.pkl')\n",
        "# Visits\n",
        "df_visit = pd.read_pickle('data/df_visit.pkl')\n",
        "# Diagnosis (condition)\n",
        "df_cond = pd.read_pickle('data/df_condition.pkl')\n",
        "# Medication\n",
        "df_med = pd.read_pickle('data/df_med.pkl')"
      ]
    },
    {
      "cell_type": "markdown",
      "metadata": {
        "id": "bNc-XlHXUQBX"
      },
      "source": [
        "Create a dataframe `df_visit_med` that indicates which drug was administered for each visit.\n",
        "\n",
        "TIP : LEFT JOIN `df_visit` and `df_med` on `visit_occurrence_id` using the `pandas.merge()` function (see [doc](https://pandas.pydata.org/docs/reference/api/pandas.merge.html))"
      ]
    },
    {
      "cell_type": "code",
      "execution_count": 4,
      "metadata": {
        "id": "Fzcyko7aUQBX",
        "tags": []
      },
      "outputs": [],
      "source": [
        "df_visit_med = pd.merge(df_visit, df_med, on = 'visit_occurrence_id', how = 'left')"
      ]
    },
    {
      "cell_type": "markdown",
      "metadata": {
        "id": "kwuKqN86UQBY"
      },
      "source": [
        "How many patients are in the study?\n",
        "<br>We suppose deduplication has already been done."
      ]
    },
    {
      "cell_type": "code",
      "execution_count": 5,
      "metadata": {
        "colab": {
          "base_uri": "https://localhost:8080/"
        },
        "id": "eFEFs8bvUQBY",
        "outputId": "94d74dc0-f78f-4d42-e5b6-6da32425ca25",
        "tags": []
      },
      "outputs": [
        {
          "name": "stdout",
          "output_type": "stream",
          "text": [
            "We have 6000 unique patient ids in this dataset.\n"
          ]
        }
      ],
      "source": [
        "print(f\"We have {df_person.person_id.nunique()} unique patient ids in this dataset.\")"
      ]
    },
    {
      "cell_type": "markdown",
      "metadata": {
        "id": "yOk_7qF3UQBY"
      },
      "source": [
        "Make sure every patient only has only one visit and therefore one drug administration\n",
        "\n",
        "TIPS : Count the number of patients in the dataset `df_visit_med` using `pandas.value_counts()` and check there is only one occurence of every patient."
      ]
    },
    {
      "cell_type": "code",
      "execution_count": 6,
      "metadata": {
        "colab": {
          "base_uri": "https://localhost:8080/"
        },
        "id": "4iDUwSjTUQBY",
        "outputId": "d79a85d9-e9f5-4bb1-b5ae-d84e0c694a0e",
        "tags": []
      },
      "outputs": [
        {
          "name": "stdout",
          "output_type": "stream",
          "text": [
            "0 patients have more than one visit\n"
          ]
        }
      ],
      "source": [
        "df_value_count = df_visit_med.person_id.value_counts()\n",
        "n_numerous = df_value_count[df_value_count > 1].size\n",
        "print(\"{} patients have more than one visit\".format(n_numerous))"
      ]
    },
    {
      "cell_type": "markdown",
      "metadata": {
        "id": "FhQETsULUQBZ"
      },
      "source": [
        "How many patients have had :\n",
        "- drugA  administered ?\n",
        "- drugB administered ?\n",
        "\n",
        "TIP : Count the number of drugA and drugB administered in the dataset `df_visit_med` using `pandas.value_counts()`"
      ]
    },
    {
      "cell_type": "code",
      "execution_count": 7,
      "metadata": {
        "colab": {
          "base_uri": "https://localhost:8080/"
        },
        "id": "1-5uE7miUQBZ",
        "outputId": "3f88bb75-83d7-4dad-ca77-4bae0e6b5128",
        "tags": []
      },
      "outputs": [
        {
          "name": "stdout",
          "output_type": "stream",
          "text": [
            " 965 patients have had the drugA administered. \n",
            "1030 patients have had the drugB administered.\n"
          ]
        }
      ],
      "source": [
        "count_drug = df_med.drug_source_value.value_counts()\n",
        "print(f\" {count_drug['drugA']} patients have had the drugA administered. \\n{count_drug['drugB']} patients have had the drugB administered.\")"
      ]
    },
    {
      "cell_type": "markdown",
      "metadata": {
        "id": "bDBX6W9qUQBZ"
      },
      "source": [
        "How many patients have had no drug administered according to the structured information?"
      ]
    },
    {
      "cell_type": "code",
      "execution_count": 8,
      "metadata": {
        "colab": {
          "base_uri": "https://localhost:8080/"
        },
        "id": "ckF9jvSYUQBZ",
        "outputId": "a4696f13-627e-4b05-a438-42285f0e079a",
        "tags": []
      },
      "outputs": [
        {
          "name": "stdout",
          "output_type": "stream",
          "text": [
            "4070 patients have had no drugs administerd.\n"
          ]
        }
      ],
      "source": [
        "df_person.person_id.nunique() - len(df_med)\n",
        "\n",
        "print(f\"{df_person.person_id.nunique() - count_drug['drugA'] - count_drug['drugA']} patients have had no drugs administerd.\")"
      ]
    },
    {
      "cell_type": "markdown",
      "metadata": {
        "id": "jQ2mbx4WUQBZ"
      },
      "source": [
        "## 1.2 Clinical Notes\n",
        "\n",
        "In this exercise we introduce two new categories of data:\n",
        "- **free text** contained in clinical notes (*i.e.* raw data)\n",
        "- variables that have been **extracted by a pre-defined NLP algorithm** (*i.e.* extracted data).\n",
        "\n",
        "Free text is made available in a *df_note* dataframe\n",
        "\n",
        "- Open the *data/df_note.pkl* file as `df_note` using the pandas.read_pickle() function.\n",
        "- Explore the type of each feature of the df_note DataFrame with the .info() function.\n",
        "- Check out the first rows of the DataFrame using the .head() function."
      ]
    },
    {
      "cell_type": "code",
      "execution_count": 9,
      "metadata": {
        "colab": {
          "base_uri": "https://localhost:8080/",
          "height": 414
        },
        "id": "MJbjC-aDUQBZ",
        "outputId": "affc334e-cab4-4ac1-f20b-30a4eb33d863",
        "tags": []
      },
      "outputs": [
        {
          "name": "stdout",
          "output_type": "stream",
          "text": [
            "<class 'pandas.core.frame.DataFrame'>\n",
            "Index: 7800 entries, 0 to 454\n",
            "Data columns (total 5 columns):\n",
            " #   Column               Non-Null Count  Dtype         \n",
            "---  ------               --------------  -----         \n",
            " 0   visit_occurrence_id  7800 non-null   int64         \n",
            " 1   note_datetime        7800 non-null   datetime64[ns]\n",
            " 2   note_id              7800 non-null   int64         \n",
            " 3   cdm_source           7800 non-null   object        \n",
            " 4   note_text            7800 non-null   object        \n",
            "dtypes: datetime64[ns](1), int64(2), object(2)\n",
            "memory usage: 365.6+ KB\n"
          ]
        },
        {
          "data": {
            "text/html": [
              "<div>\n",
              "<style scoped>\n",
              "    .dataframe tbody tr th:only-of-type {\n",
              "        vertical-align: middle;\n",
              "    }\n",
              "\n",
              "    .dataframe tbody tr th {\n",
              "        vertical-align: top;\n",
              "    }\n",
              "\n",
              "    .dataframe thead th {\n",
              "        text-align: right;\n",
              "    }\n",
              "</style>\n",
              "<table border=\"1\" class=\"dataframe\">\n",
              "  <thead>\n",
              "    <tr style=\"text-align: right;\">\n",
              "      <th></th>\n",
              "      <th>visit_occurrence_id</th>\n",
              "      <th>note_datetime</th>\n",
              "      <th>note_id</th>\n",
              "      <th>cdm_source</th>\n",
              "      <th>note_text</th>\n",
              "    </tr>\n",
              "  </thead>\n",
              "  <tbody>\n",
              "    <tr>\n",
              "      <th>0</th>\n",
              "      <td>88969657</td>\n",
              "      <td>2025-02-07</td>\n",
              "      <td>86385800</td>\n",
              "      <td>EHR 1</td>\n",
              "      <td>Compte rendu de consultation\\n\\nPatient : [Nom...</td>\n",
              "    </tr>\n",
              "    <tr>\n",
              "      <th>1</th>\n",
              "      <td>82562657</td>\n",
              "      <td>2020-03-10</td>\n",
              "      <td>88729980</td>\n",
              "      <td>EHR 1</td>\n",
              "      <td>Compte rendu de consultation\\n\\nPatient : [Nom...</td>\n",
              "    </tr>\n",
              "    <tr>\n",
              "      <th>2</th>\n",
              "      <td>88795306</td>\n",
              "      <td>2020-01-27</td>\n",
              "      <td>88660889</td>\n",
              "      <td>EHR 1</td>\n",
              "      <td>Compte rendu de consultation\\n\\nPatient : [Nom...</td>\n",
              "    </tr>\n",
              "    <tr>\n",
              "      <th>3</th>\n",
              "      <td>83166022</td>\n",
              "      <td>2023-03-23</td>\n",
              "      <td>88805262</td>\n",
              "      <td>EHR 1</td>\n",
              "      <td>Compte rendu de consultation\\n\\nPatient : [Nom...</td>\n",
              "    </tr>\n",
              "    <tr>\n",
              "      <th>4</th>\n",
              "      <td>84710731</td>\n",
              "      <td>2022-04-08</td>\n",
              "      <td>85029453</td>\n",
              "      <td>EHR 1</td>\n",
              "      <td>Compte rendu de consultation\\n\\nPatient : [Nom...</td>\n",
              "    </tr>\n",
              "  </tbody>\n",
              "</table>\n",
              "</div>"
            ],
            "text/plain": [
              "   visit_occurrence_id note_datetime   note_id cdm_source  \\\n",
              "0             88969657    2025-02-07  86385800      EHR 1   \n",
              "1             82562657    2020-03-10  88729980      EHR 1   \n",
              "2             88795306    2020-01-27  88660889      EHR 1   \n",
              "3             83166022    2023-03-23  88805262      EHR 1   \n",
              "4             84710731    2022-04-08  85029453      EHR 1   \n",
              "\n",
              "                                           note_text  \n",
              "0  Compte rendu de consultation\\n\\nPatient : [Nom...  \n",
              "1  Compte rendu de consultation\\n\\nPatient : [Nom...  \n",
              "2  Compte rendu de consultation\\n\\nPatient : [Nom...  \n",
              "3  Compte rendu de consultation\\n\\nPatient : [Nom...  \n",
              "4  Compte rendu de consultation\\n\\nPatient : [Nom...  "
            ]
          },
          "execution_count": 9,
          "metadata": {},
          "output_type": "execute_result"
        }
      ],
      "source": [
        "df_note = pd.read_pickle('data/df_note.pkl')\n",
        "df_note.info()\n",
        "df_note.head()"
      ]
    },
    {
      "cell_type": "markdown",
      "metadata": {
        "id": "cmOzk9aqUQBZ"
      },
      "source": [
        "`df_note` is composed of 5 columns :\n",
        "- *visit_occurrence_id* : identifier of the visit\n",
        "- *note_id* : identifier of the medical note\n",
        "- *note_text* : free text contained in the medical note\n",
        "- *note_datetime* : date of text edition\n",
        "- *cdm_source* : name of the clinical software\n",
        "\n",
        "Print an example of a note using the funciton `pandas.sample()`\n",
        "\n",
        "TIP : Use the function `pandas.sample()`(see [doc](https://pandas.pydata.org/docs/reference/api/pandas.DataFrame.sample.html)) and the function `pandas.squeeze()`(see [doc](https://pandas.pydata.org/docs/reference/api/pandas.DataFrame.squeeze.html))"
      ]
    },
    {
      "cell_type": "code",
      "execution_count": 10,
      "metadata": {
        "colab": {
          "base_uri": "https://localhost:8080/"
        },
        "id": "a4CnUFE7UQBZ",
        "outputId": "9da65d61-c669-42b4-c033-94344c7be4e6",
        "tags": []
      },
      "outputs": [
        {
          "name": "stdout",
          "output_type": "stream",
          "text": [
            "Compte rendu de consultation\n",
            "\n",
            "Patient : [Nom du patient]\n",
            "Âge : [Âge du patient]\n",
            "Sexe : [Sexe du patient]\n",
            "Numéro de dossier : [Numéro de dossier du patient]\n",
            "\n",
            "Motif de la consultation:\n",
            "Préoccupation des parents pour un enfant atteint de la grippe : Les parents ou les soignants d'un enfant atteint de la grippe peuvent consulter en raison de symptômes graves, de difficultés à s'alimenter ou à boire, de fièvre élevée persistante ou d'autres préoccupations.\n",
            "\n",
            "Diagnostic:\n",
            "Diagnostic de grippe établi en fonction de l'évolution clinique et des antécédents d'exposition.\n",
            "\n",
            "Examen du patient:\n",
            "Examen vasculaire : présence de pouls périphériques diminués (signe d'atteinte vasculaire).\n",
            "\n",
            "Plan de traitement:\n",
            "Dans le cadre de la prise en charge, le patient a reçu une prescription de drugA pour soulager les symptômes grippaux et accélérer la guérison.\n",
            "\n",
            "Signature du médecin :\n",
            "[Nom du médecin]\n",
            "[Titre/Spécialité]\n",
            "[Hôpital/Service]\n"
          ]
        }
      ],
      "source": [
        "print(df_note.sample(1)['note_text'].squeeze())"
      ]
    },
    {
      "cell_type": "markdown",
      "metadata": {
        "id": "hkU8FgqNUQBa"
      },
      "source": [
        "# 2. First steps with natural language processing\n"
      ]
    },
    {
      "cell_type": "markdown",
      "metadata": {
        "id": "meJYskjhUQBa"
      },
      "source": [
        "Let's now define a new rule-based NLP algorithm that extracts drugs mentioned in clinical notes."
      ]
    },
    {
      "cell_type": "markdown",
      "metadata": {
        "id": "khAgy2S1UQBa"
      },
      "source": [
        "We define a rule-based algorithm that consists in looking for mentions of drugs in the texts and in discarding false positive detections by predicting modifiers (negation, etc.).\n",
        "\n",
        "**Step 1: Definition of the vocabularies**\n",
        "\n",
        "We start by asking clinicians to consolidate a list of synonyms used to report the usage of drug A or drug B in the clinical notes:"
      ]
    },
    {
      "cell_type": "code",
      "execution_count": 11,
      "metadata": {
        "id": "BR0l9IoXUQBa",
        "tags": []
      },
      "outputs": [],
      "source": [
        "# Clinicians indicated that the following synonyms could be used\n",
        "\n",
        "terms = dict(\n",
        "    drugA=['drugA', 'pneumo-drug', 'SpinA'],\n",
        "    drugB=['drugB', 'noso-plat', 'testmedB'],\n",
        "    medicament=['médicament', 'médicamenteux']\n",
        ")"
      ]
    },
    {
      "cell_type": "markdown",
      "metadata": {
        "id": "8e6B8k-SUQBa"
      },
      "source": [
        "**Step 2: Definition of a natural language processing pipeline (rule-based)**\n",
        "\n",
        "The documentation for the NLP librairie is available [here](https://aphp.github.io/edsnlp)\n",
        "\n",
        "We now integrate this dictionary in a NLP-pipeline as described in the *eds-nlp* documentation, in order to realize the various pre-processing steps necessary to extract a meaningful variable:\n",
        "\n",
        "Create a first pipeline using :\n",
        "- eds.sentences\n",
        "- eds.normalier\n",
        "- eds.matcher with `terms` as the configuration file and `NORM` as attr.\n",
        "- eds.negation\n",
        "\n",
        "Similar example is available [here](https://aphp.github.io/edsnlp/latest/tutorials/multiple-texts/)"
      ]
    },
    {
      "cell_type": "code",
      "execution_count": 12,
      "metadata": {
        "colab": {
          "base_uri": "https://localhost:8080/"
        },
        "id": "23ZmvXu6UQBa",
        "outputId": "5a169a8d-1672-43ff-ccc1-60e496e62ac6",
        "tags": []
      },
      "outputs": [
        {
          "data": {
            "text/plain": [
              "<edsnlp.pipes.qualifiers.negation.negation.NegationQualifier at 0x7fdd584d8f90>"
            ]
          },
          "execution_count": 12,
          "metadata": {},
          "output_type": "execute_result"
        }
      ],
      "source": [
        "#Utiliser edsnlp pour extraitre les 3 entités ci dessus :\n",
        "import warnings\n",
        "warnings.filterwarnings(\"ignore\", category=UserWarning)\n",
        "from spacy import displacy\n",
        "import edsnlp, edsnlp.pipes as eds\n",
        "\n",
        "nlp = edsnlp.blank(\"eds\")\n",
        "# sentencizer component\n",
        "nlp.add_pipe(eds.sentences())\n",
        "nlp.add_pipe(eds.normalizer())\n",
        "# Matcher component\n",
        "nlp.add_pipe(eds.matcher(\n",
        "        terms=terms,\n",
        "        attr=\"NORM\",\n",
        "    ))\n",
        "nlp.add_pipe(eds.negation())"
      ]
    },
    {
      "cell_type": "markdown",
      "metadata": {
        "id": "B6Xjlt6HUQBa"
      },
      "source": [
        "Apply the pipeline to one document to see if it works (see [doc](https://aphp.github.io/edsnlp/latest/tutorials/matching-a-terminology/#visualising-matched-entities)).\n",
        "\n",
        "TIPS :\n",
        "- Use the function `pandas.sample()`(see [doc](https://pandas.pydata.org/docs/reference/api/pandas.DataFrame.sample.html)) and the function `pandas.squeeze()`(see [doc](https://pandas.pydata.org/docs/reference/api/pandas.DataFrame.squeeze.html)) to extract a text.\n",
        "- Apply your nlp pipeline to create a `doc`\n",
        "- Apply `displacy.render()`"
      ]
    },
    {
      "cell_type": "code",
      "execution_count": 13,
      "metadata": {
        "colab": {
          "base_uri": "https://localhost:8080/",
          "height": 892
        },
        "id": "O5b-uxiyUQBa",
        "outputId": "5b036ac9-0ac0-4ebc-ffe4-ba6403a6acf4",
        "tags": []
      },
      "outputs": [
        {
          "data": {
            "text/html": [
              "<span class=\"tex2jax_ignore\"><div class=\"entities\" style=\"line-height: 2.5; direction: ltr\">Compte rendu de consultation<br><br>Patient : [Nom du patient]<br>Âge : [Âge du patient]<br>Sexe : [Sexe du patient]<br>Numéro de dossier : [Numéro de dossier du patient]<br><br>Motif de la consultation:<br>Facteurs de risque sociaux : Les patients atteints de la grippe vivant dans des situations de vie précaires, tels que les sans-abri, nécessitent une hospitalisation pour garantir un accès aux soins appropriés et une prévention de la propagation de l'infection.<br><br>Diagnostic:<br>Diagnostic différentiel de la grippe exploré et exclu après évaluation approfondie.<br><br>Examen du patient:<br>Diminution de la sensibilité cutanée (signe de neuropathie périphérique).<br><br>Plan de traitement:<br>Dans le cadre du traitement, le \n",
              "<mark class=\"entity\" style=\"background: steelblue; padding: 0.45em 0.6em; margin: 0 0.25em; line-height: 1; border-radius: 0.35em;\">\n",
              "    noso-plat\n",
              "    <span style=\"font-size: 0.8em; font-weight: bold; line-height: 1; border-radius: 0.35em; vertical-align: middle; margin-left: 0.5rem\">drugB</span>\n",
              "</mark>\n",
              " a été prescrit pour renforcer le système immunitaire du patient atteint de grippe et réduire la sévérité des symptômes.<br><br>Signature du médecin :<br>[Nom du médecin]<br>[Titre/Spécialité]<br>[Hôpital/Service]</div></span>"
            ],
            "text/plain": [
              "<IPython.core.display.HTML object>"
            ]
          },
          "metadata": {},
          "output_type": "display_data"
        }
      ],
      "source": [
        "text = df_note.sample(1)['note_text'].squeeze()\n",
        "\n",
        "# Process your text in one call !\n",
        "doc = nlp(text)\n",
        "\n",
        "colors = {\n",
        "    \"drugA\": \"orange\",\n",
        "    \"drugB\": \"steelblue\",\n",
        "    \"medicament\" : \"green\"\n",
        "}\n",
        "options = {\n",
        "    \"colors\": colors,\n",
        "}\n",
        "\n",
        "displacy.render(doc, style=\"ent\", options=options)"
      ]
    },
    {
      "cell_type": "markdown",
      "metadata": {
        "id": "d967xsD-UQBb"
      },
      "source": [
        "**Step 3: Application of the natural language processing pipeline on all the clinical notes**\n",
        "\n",
        "\n",
        "\n",
        "*   Convert the pandas DataFrame `df_note` to Spacy `Docs` by using the `edsnlp.data.from_pandas()` with `converter=\"omop\"`(see [doc](https://aphp.github.io/edsnlp/latest/reference/edsnlp/data/pandas/#edsnlp.data.pandas.from_pandas)).\n",
        "*   Apply this NLP pipeline to the Spacy `Docs` to extract entities by using the `nlp.pipe()` function (see [doc](https://aphp.github.io/edsnlp/latest/tutorials/multiple-texts/#processing-a-dataframe)).\n",
        "*   Convert the Docs with NLP extraction back to pandas DataFrame by using the `edsnlp.data.to_pandas()` with `converter=\"ents\"` and a `span_attributes` (see [doc](https://aphp.github.io/edsnlp/latest/reference/edsnlp/data/pandas/#edsnlp.data.pandas.to_pandas))\n",
        "\n",
        "Similar example is available [here](https://aphp.github.io/edsnlp/latest/tutorials/multiple-texts/#locally-without-parallelization)"
      ]
    },
    {
      "cell_type": "code",
      "execution_count": 14,
      "metadata": {
        "colab": {
          "base_uri": "https://localhost:8080/"
        },
        "id": "2FywoP7Xbbtk",
        "outputId": "51ad9325-e0ab-41a3-af8b-07b5376b9614"
      },
      "outputs": [
        {
          "name": "stderr",
          "output_type": "stream",
          "text": [
            "7800it [00:03, 2290.03it/s]\n"
          ]
        }
      ],
      "source": [
        "# Convert the pandas DataFrame `df_note` to Spacy `Docs`\n",
        "docs = edsnlp.data.from_pandas(df_note, converter=\"omop\")\n",
        "\n",
        "# Apply the NLP pipeline\n",
        "nlp_docs = nlp.pipe(docs)\n",
        "\n",
        "# The operations of our lazy collection will be distributed on multiple workers\n",
        "nlp_docs = nlp_docs.set_processing(backend=\"multiprocessing\", show_progress=True)\n",
        "\n",
        "# Convert the Docs `nlp_docs` to pandas DataFrame\n",
        "df_nlp_docs = nlp_docs.to_pandas(\n",
        "    converter=\"ents\",\n",
        "    span_attributes={\n",
        "        \"negation\": \"negation\",\n",
        "    },\n",
        ")"
      ]
    },
    {
      "cell_type": "markdown",
      "metadata": {
        "id": "MnGJcTgFtkRs"
      },
      "source": [
        "Show the first rows of the dataframe `df_nlp_docs`"
      ]
    },
    {
      "cell_type": "code",
      "execution_count": 15,
      "metadata": {
        "colab": {
          "base_uri": "https://localhost:8080/",
          "height": 449
        },
        "id": "B3iUb4pyddFs",
        "outputId": "23211421-eb5c-4cf8-af68-080d77319cc0"
      },
      "outputs": [
        {
          "data": {
            "text/html": [
              "<div>\n",
              "<style scoped>\n",
              "    .dataframe tbody tr th:only-of-type {\n",
              "        vertical-align: middle;\n",
              "    }\n",
              "\n",
              "    .dataframe tbody tr th {\n",
              "        vertical-align: top;\n",
              "    }\n",
              "\n",
              "    .dataframe thead th {\n",
              "        text-align: right;\n",
              "    }\n",
              "</style>\n",
              "<table border=\"1\" class=\"dataframe\">\n",
              "  <thead>\n",
              "    <tr style=\"text-align: right;\">\n",
              "      <th></th>\n",
              "      <th>note_id</th>\n",
              "      <th>start</th>\n",
              "      <th>end</th>\n",
              "      <th>label</th>\n",
              "      <th>lexical_variant</th>\n",
              "      <th>span_type</th>\n",
              "      <th>negation</th>\n",
              "    </tr>\n",
              "  </thead>\n",
              "  <tbody>\n",
              "    <tr>\n",
              "      <th>0</th>\n",
              "      <td>86385800</td>\n",
              "      <td>787</td>\n",
              "      <td>792</td>\n",
              "      <td>drugB</td>\n",
              "      <td>drugB</td>\n",
              "      <td>ents</td>\n",
              "      <td>True</td>\n",
              "    </tr>\n",
              "    <tr>\n",
              "      <th>1</th>\n",
              "      <td>88660889</td>\n",
              "      <td>783</td>\n",
              "      <td>788</td>\n",
              "      <td>drugA</td>\n",
              "      <td>drugA</td>\n",
              "      <td>ents</td>\n",
              "      <td>False</td>\n",
              "    </tr>\n",
              "    <tr>\n",
              "      <th>2</th>\n",
              "      <td>88805262</td>\n",
              "      <td>764</td>\n",
              "      <td>769</td>\n",
              "      <td>drugB</td>\n",
              "      <td>drugB</td>\n",
              "      <td>ents</td>\n",
              "      <td>True</td>\n",
              "    </tr>\n",
              "    <tr>\n",
              "      <th>3</th>\n",
              "      <td>82601615</td>\n",
              "      <td>655</td>\n",
              "      <td>660</td>\n",
              "      <td>drugA</td>\n",
              "      <td>drugA</td>\n",
              "      <td>ents</td>\n",
              "      <td>True</td>\n",
              "    </tr>\n",
              "    <tr>\n",
              "      <th>4</th>\n",
              "      <td>82601615</td>\n",
              "      <td>669</td>\n",
              "      <td>679</td>\n",
              "      <td>medicament</td>\n",
              "      <td>médicament</td>\n",
              "      <td>ents</td>\n",
              "      <td>False</td>\n",
              "    </tr>\n",
              "  </tbody>\n",
              "</table>\n",
              "</div>"
            ],
            "text/plain": [
              "    note_id  start  end       label lexical_variant span_type  negation\n",
              "0  86385800    787  792       drugB           drugB      ents      True\n",
              "1  88660889    783  788       drugA           drugA      ents     False\n",
              "2  88805262    764  769       drugB           drugB      ents      True\n",
              "3  82601615    655  660       drugA           drugA      ents      True\n",
              "4  82601615    669  679  medicament      médicament      ents     False"
            ]
          },
          "metadata": {},
          "output_type": "display_data"
        },
        {
          "name": "stdout",
          "output_type": "stream",
          "text": [
            "<class 'pandas.core.frame.DataFrame'>\n",
            "RangeIndex: 9106 entries, 0 to 9105\n",
            "Data columns (total 7 columns):\n",
            " #   Column           Non-Null Count  Dtype \n",
            "---  ------           --------------  ----- \n",
            " 0   note_id          9106 non-null   int64 \n",
            " 1   start            9106 non-null   int64 \n",
            " 2   end              9106 non-null   int64 \n",
            " 3   label            9106 non-null   object\n",
            " 4   lexical_variant  9106 non-null   object\n",
            " 5   span_type        9106 non-null   object\n",
            " 6   negation         9106 non-null   bool  \n",
            "dtypes: bool(1), int64(3), object(3)\n",
            "memory usage: 435.9+ KB\n"
          ]
        },
        {
          "data": {
            "text/plain": [
              "None"
            ]
          },
          "metadata": {},
          "output_type": "display_data"
        }
      ],
      "source": [
        "display(df_nlp_docs.head())\n",
        "display(df_nlp_docs.info())"
      ]
    },
    {
      "cell_type": "markdown",
      "metadata": {
        "id": "WMkY-vuKUQBb"
      },
      "source": [
        "Add the `visit_occurrence_id` columns to the `df_nlp_docs`.\n",
        "\n",
        "Tip: You can merge it with `df_note` but be careful, some visits can have multiple notes."
      ]
    },
    {
      "cell_type": "code",
      "execution_count": 16,
      "metadata": {
        "colab": {
          "base_uri": "https://localhost:8080/",
          "height": 466
        },
        "id": "bpKAqoScUQBb",
        "outputId": "5f993134-50e8-4a83-b9ad-af3fd90f538f",
        "tags": []
      },
      "outputs": [
        {
          "data": {
            "text/html": [
              "<div>\n",
              "<style scoped>\n",
              "    .dataframe tbody tr th:only-of-type {\n",
              "        vertical-align: middle;\n",
              "    }\n",
              "\n",
              "    .dataframe tbody tr th {\n",
              "        vertical-align: top;\n",
              "    }\n",
              "\n",
              "    .dataframe thead th {\n",
              "        text-align: right;\n",
              "    }\n",
              "</style>\n",
              "<table border=\"1\" class=\"dataframe\">\n",
              "  <thead>\n",
              "    <tr style=\"text-align: right;\">\n",
              "      <th></th>\n",
              "      <th>note_id</th>\n",
              "      <th>start</th>\n",
              "      <th>end</th>\n",
              "      <th>label</th>\n",
              "      <th>lexical_variant</th>\n",
              "      <th>span_type</th>\n",
              "      <th>negation</th>\n",
              "      <th>visit_occurrence_id</th>\n",
              "    </tr>\n",
              "  </thead>\n",
              "  <tbody>\n",
              "    <tr>\n",
              "      <th>0</th>\n",
              "      <td>86385800</td>\n",
              "      <td>787</td>\n",
              "      <td>792</td>\n",
              "      <td>drugB</td>\n",
              "      <td>drugB</td>\n",
              "      <td>ents</td>\n",
              "      <td>True</td>\n",
              "      <td>88969657</td>\n",
              "    </tr>\n",
              "    <tr>\n",
              "      <th>1</th>\n",
              "      <td>88660889</td>\n",
              "      <td>783</td>\n",
              "      <td>788</td>\n",
              "      <td>drugA</td>\n",
              "      <td>drugA</td>\n",
              "      <td>ents</td>\n",
              "      <td>False</td>\n",
              "      <td>88795306</td>\n",
              "    </tr>\n",
              "    <tr>\n",
              "      <th>2</th>\n",
              "      <td>88805262</td>\n",
              "      <td>764</td>\n",
              "      <td>769</td>\n",
              "      <td>drugB</td>\n",
              "      <td>drugB</td>\n",
              "      <td>ents</td>\n",
              "      <td>True</td>\n",
              "      <td>83166022</td>\n",
              "    </tr>\n",
              "    <tr>\n",
              "      <th>3</th>\n",
              "      <td>82601615</td>\n",
              "      <td>655</td>\n",
              "      <td>660</td>\n",
              "      <td>drugA</td>\n",
              "      <td>drugA</td>\n",
              "      <td>ents</td>\n",
              "      <td>True</td>\n",
              "      <td>86874975</td>\n",
              "    </tr>\n",
              "    <tr>\n",
              "      <th>4</th>\n",
              "      <td>82601615</td>\n",
              "      <td>669</td>\n",
              "      <td>679</td>\n",
              "      <td>medicament</td>\n",
              "      <td>médicament</td>\n",
              "      <td>ents</td>\n",
              "      <td>False</td>\n",
              "      <td>86874975</td>\n",
              "    </tr>\n",
              "  </tbody>\n",
              "</table>\n",
              "</div>"
            ],
            "text/plain": [
              "    note_id  start  end       label lexical_variant span_type  negation  \\\n",
              "0  86385800    787  792       drugB           drugB      ents      True   \n",
              "1  88660889    783  788       drugA           drugA      ents     False   \n",
              "2  88805262    764  769       drugB           drugB      ents      True   \n",
              "3  82601615    655  660       drugA           drugA      ents      True   \n",
              "4  82601615    669  679  medicament      médicament      ents     False   \n",
              "\n",
              "   visit_occurrence_id  \n",
              "0             88969657  \n",
              "1             88795306  \n",
              "2             83166022  \n",
              "3             86874975  \n",
              "4             86874975  "
            ]
          },
          "metadata": {},
          "output_type": "display_data"
        },
        {
          "name": "stdout",
          "output_type": "stream",
          "text": [
            "<class 'pandas.core.frame.DataFrame'>\n",
            "RangeIndex: 9106 entries, 0 to 9105\n",
            "Data columns (total 8 columns):\n",
            " #   Column               Non-Null Count  Dtype \n",
            "---  ------               --------------  ----- \n",
            " 0   note_id              9106 non-null   int64 \n",
            " 1   start                9106 non-null   int64 \n",
            " 2   end                  9106 non-null   int64 \n",
            " 3   label                9106 non-null   object\n",
            " 4   lexical_variant      9106 non-null   object\n",
            " 5   span_type            9106 non-null   object\n",
            " 6   negation             9106 non-null   bool  \n",
            " 7   visit_occurrence_id  9106 non-null   int64 \n",
            "dtypes: bool(1), int64(4), object(3)\n",
            "memory usage: 507.0+ KB\n"
          ]
        }
      ],
      "source": [
        "df_note_annotated = df_nlp_docs.merge(df_note[[\"note_id\", \"visit_occurrence_id\"]].drop_duplicates(), on=\"note_id\")\n",
        "display(df_note_annotated.head())\n",
        "df_note_annotated.info()"
      ]
    },
    {
      "cell_type": "markdown",
      "metadata": {
        "id": "PcaVTN27UQBb"
      },
      "source": [
        "**Step 4: Create rules to classify each result and identify the patients for each drug**\n",
        "\n",
        "First, we classify each entity detected according to the rules bellow :\n",
        "\n",
        "- (drugA OR drugB OR medicament) AND NEGATION = control\n",
        "- drugA AND NOT(NEGATION) = cohortA\n",
        "- drugB AND NOT(NEGATION) = cohortB\n",
        "- else : unknown\n",
        "  \n",
        "Then, for a given `note_id` aka a given `visit_occurrence_id`, we combine the entities detected and classified as followed :\n",
        "- if control + cohortA = ambiguous\n",
        "- if control + cohortB = ambiguous\n",
        "- if cohortA + cohortB = ambiguous\n",
        "- if control + unknown = control\n",
        "- if cohortA + unknown = cohortA\n",
        "- if cohortB + unknown = cohortB\n",
        "\n",
        "The classification function `calc_value` is provided. <br>\n",
        "The processed data extracted from clinical notes is avaible in a `pd.DataFrame`*df_note_annotated_grouped*.\n",
        "\n",
        "`df_note_annotated_grouped` is composed of 2 columns :\n",
        "- *visit_occurrence_id* : identifier of the visit\n",
        "- *drug_source_value* : The output of the NLP° and the classification algorithm\n"
      ]
    },
    {
      "cell_type": "code",
      "execution_count": 17,
      "metadata": {
        "colab": {
          "base_uri": "https://localhost:8080/",
          "height": 206
        },
        "id": "bYeZsUOQUQBb",
        "outputId": "07d348fc-4b66-438a-f0ef-fd2f50387911",
        "tags": []
      },
      "outputs": [
        {
          "name": "stderr",
          "output_type": "stream",
          "text": [
            "/tmp/ipykernel_83240/2254117783.py:22: DeprecationWarning: DataFrameGroupBy.apply operated on the grouping columns. This behavior is deprecated, and in a future version of pandas the grouping columns will be excluded from the operation. Either pass `include_groups=False` to exclude the groupings or explicitly select the grouping columns after groupby to silence this warning.\n",
            "  df_note_annotated_grouped = df_note_annotated.groupby('visit_occurrence_id').apply(calc_value).to_frame('drug_source_value').reset_index()\n"
          ]
        },
        {
          "data": {
            "text/html": [
              "<div>\n",
              "<style scoped>\n",
              "    .dataframe tbody tr th:only-of-type {\n",
              "        vertical-align: middle;\n",
              "    }\n",
              "\n",
              "    .dataframe tbody tr th {\n",
              "        vertical-align: top;\n",
              "    }\n",
              "\n",
              "    .dataframe thead th {\n",
              "        text-align: right;\n",
              "    }\n",
              "</style>\n",
              "<table border=\"1\" class=\"dataframe\">\n",
              "  <thead>\n",
              "    <tr style=\"text-align: right;\">\n",
              "      <th></th>\n",
              "      <th>visit_occurrence_id</th>\n",
              "      <th>drug_source_value</th>\n",
              "    </tr>\n",
              "  </thead>\n",
              "  <tbody>\n",
              "    <tr>\n",
              "      <th>0</th>\n",
              "      <td>80000116</td>\n",
              "      <td>drugB</td>\n",
              "    </tr>\n",
              "    <tr>\n",
              "      <th>1</th>\n",
              "      <td>80000964</td>\n",
              "      <td>drugB</td>\n",
              "    </tr>\n",
              "    <tr>\n",
              "      <th>2</th>\n",
              "      <td>80007787</td>\n",
              "      <td>drugA</td>\n",
              "    </tr>\n",
              "    <tr>\n",
              "      <th>3</th>\n",
              "      <td>80008313</td>\n",
              "      <td>drugB</td>\n",
              "    </tr>\n",
              "    <tr>\n",
              "      <th>4</th>\n",
              "      <td>80011748</td>\n",
              "      <td>ambiguous</td>\n",
              "    </tr>\n",
              "  </tbody>\n",
              "</table>\n",
              "</div>"
            ],
            "text/plain": [
              "   visit_occurrence_id drug_source_value\n",
              "0             80000116             drugB\n",
              "1             80000964             drugB\n",
              "2             80007787             drugA\n",
              "3             80008313             drugB\n",
              "4             80011748         ambiguous"
            ]
          },
          "execution_count": 17,
          "metadata": {},
          "output_type": "execute_result"
        }
      ],
      "source": [
        "def calc_value(x):\n",
        "    state = \"unknown\"\n",
        "    for _, row in x.iterrows():\n",
        "        if row['label'] in ['medicament', 'drugA', 'drugB'] and row['negation']:\n",
        "            if state == \"unknown\" or state == \"control\":\n",
        "                state = \"control\"\n",
        "            else:\n",
        "                state = \"ambiguous\"\n",
        "        elif row['label'] == 'drugA' and not row['negation']:\n",
        "            if state == \"unknown\" or state == \"drugA\":\n",
        "                state = \"drugA\"\n",
        "            else:\n",
        "                state = \"ambiguous\"\n",
        "        elif row['label'] == 'drugB' and not row['negation']:\n",
        "            if state == \"unknown\" or state == \"drugB\":\n",
        "                state = \"drugB\"\n",
        "            else:\n",
        "                state = \"ambiguous\"\n",
        "    return state\n",
        "\n",
        "undesired_state = ['unknown', 'ambiguous']\n",
        "df_note_annotated_grouped = df_note_annotated.groupby('visit_occurrence_id').apply(calc_value).to_frame('drug_source_value').reset_index()\n",
        "df_note_annotated_grouped.head()"
      ]
    },
    {
      "cell_type": "markdown",
      "metadata": {
        "id": "FypOhoUMUQBb"
      },
      "source": [
        "**Step 5: Compare nlp results to structured data provided by the hospitals**\n",
        "\n",
        "\n",
        "Acccording to the NLP-pipeline, how many patients have had the drug :\n",
        "- drugA  administered ?\n",
        "- drugB administered ?\n",
        "\n",
        "TIP : Count the number of drugA and drugB administered in the dataset `df_note_annotated_grouped` using `pandas.value_counts()`"
      ]
    },
    {
      "cell_type": "code",
      "execution_count": 18,
      "metadata": {
        "colab": {
          "base_uri": "https://localhost:8080/",
          "height": 206
        },
        "id": "0PCGwmjBUQBb",
        "outputId": "dd51a256-d88e-4bb7-f8da-6b28186b6ed5",
        "tags": []
      },
      "outputs": [
        {
          "data": {
            "text/html": [
              "<div>\n",
              "<style scoped>\n",
              "    .dataframe tbody tr th:only-of-type {\n",
              "        vertical-align: middle;\n",
              "    }\n",
              "\n",
              "    .dataframe tbody tr th {\n",
              "        vertical-align: top;\n",
              "    }\n",
              "\n",
              "    .dataframe thead th {\n",
              "        text-align: right;\n",
              "    }\n",
              "</style>\n",
              "<table border=\"1\" class=\"dataframe\">\n",
              "  <thead>\n",
              "    <tr style=\"text-align: right;\">\n",
              "      <th></th>\n",
              "      <th>visit_occurrence_id</th>\n",
              "      <th>drug_source_value</th>\n",
              "    </tr>\n",
              "  </thead>\n",
              "  <tbody>\n",
              "    <tr>\n",
              "      <th>0</th>\n",
              "      <td>80000116</td>\n",
              "      <td>drugB</td>\n",
              "    </tr>\n",
              "    <tr>\n",
              "      <th>1</th>\n",
              "      <td>80000964</td>\n",
              "      <td>drugB</td>\n",
              "    </tr>\n",
              "    <tr>\n",
              "      <th>2</th>\n",
              "      <td>80007787</td>\n",
              "      <td>drugA</td>\n",
              "    </tr>\n",
              "    <tr>\n",
              "      <th>3</th>\n",
              "      <td>80008313</td>\n",
              "      <td>drugB</td>\n",
              "    </tr>\n",
              "    <tr>\n",
              "      <th>4</th>\n",
              "      <td>80011748</td>\n",
              "      <td>ambiguous</td>\n",
              "    </tr>\n",
              "  </tbody>\n",
              "</table>\n",
              "</div>"
            ],
            "text/plain": [
              "   visit_occurrence_id drug_source_value\n",
              "0             80000116             drugB\n",
              "1             80000964             drugB\n",
              "2             80007787             drugA\n",
              "3             80008313             drugB\n",
              "4             80011748         ambiguous"
            ]
          },
          "execution_count": 18,
          "metadata": {},
          "output_type": "execute_result"
        }
      ],
      "source": [
        "df_note_annotated_grouped.head()"
      ]
    },
    {
      "cell_type": "code",
      "execution_count": 19,
      "metadata": {
        "colab": {
          "base_uri": "https://localhost:8080/"
        },
        "id": "5ypuVJ_mUQBb",
        "outputId": "2004af6c-012b-4d06-bdde-234feb146815",
        "tags": []
      },
      "outputs": [
        {
          "data": {
            "text/plain": [
              "drug_source_value\n",
              "drugA        2231\n",
              "drugB        2150\n",
              "control       487\n",
              "ambiguous     284\n",
              "Name: count, dtype: int64"
            ]
          },
          "execution_count": 19,
          "metadata": {},
          "output_type": "execute_result"
        }
      ],
      "source": [
        "df_note_annotated_grouped.drug_source_value.value_counts()"
      ]
    },
    {
      "cell_type": "markdown",
      "metadata": {
        "id": "UoJnjZ8aUQBc"
      },
      "source": [
        "# 3. Statistical analysis\n",
        "\n",
        "Now that we have identified drug admission using NLP,  we can conduct the statistical analysis showing the impact of the missing data .\n",
        "<br>We plot the Kaplan-Meier estimates of survival curves, and realize the log-rank tests.\n",
        "<br> The same functions `plot_primary_kaplan` used in the previous notebook can be used to plot the curves.\n",
        "<br> If needed, you can print the docstrings using `print(plot_primary_kaplan.__doc__)`.\n",
        "\n",
        "In this exercice, we have only kept the visits regarding the epidemic conditions. `df_visit` and `df_med` can be used to without any preprocessing."
      ]
    },
    {
      "cell_type": "code",
      "execution_count": 20,
      "metadata": {
        "id": "p8rb_k9UUQBc",
        "tags": []
      },
      "outputs": [],
      "source": [
        "t_end_of_study = datetime.date(2025,12,1)"
      ]
    },
    {
      "cell_type": "code",
      "execution_count": 1,
      "metadata": {
        "id": "gUgkSle6UQBc",
        "tags": []
      },
      "outputs": [],
      "source": [
        "#Import the helper functions\n",
        "import sys\n",
        "sys.path.append(\"../\")\n",
        "from viz import plot_primary_kaplan, plot_secondary_kaplan"
      ]
    },
    {
      "cell_type": "markdown",
      "metadata": {
        "id": "eSt8OiPvUQBd"
      },
      "source": [
        "## 3.1 Without NLP extraction algorithm the person dataset\n",
        "\n",
        "Plot the  primary Kaplan-Meier estimates for the whole `df_person` DataFrame"
      ]
    },
    {
      "cell_type": "code",
      "execution_count": 22,
      "metadata": {
        "colab": {
          "base_uri": "https://localhost:8080/",
          "height": 548
        },
        "id": "huFcpUoaUQBd",
        "outputId": "a10735c0-0b15-49df-9b66-e6b9e41768ee",
        "tags": []
      },
      "outputs": [
        {
          "data": {
            "image/png": "[encoded data removed]",
            "text/plain": [
              "<Figure size 1050x550 with 4 Axes>"
            ]
          },
          "metadata": {},
          "output_type": "display_data"
        }
      ],
      "source": [
        "plot_primary_kaplan(df_person, [(df_visit, df_med, 'all population')], t_end_of_study)"
      ]
    },
    {
      "cell_type": "markdown",
      "metadata": {
        "id": "XoI8l0BQUQBd"
      },
      "source": [
        "What can be concluded on the effect of each drugs?"
      ]
    },
    {
      "cell_type": "markdown",
      "metadata": {
        "id": "xAeuRqlzUQBd"
      },
      "source": [
        "**Correction** :\n",
        "<br> It seems that drugA has a positive impact on the survival of the patients.\n",
        "<br> but that drugB doesn't."
      ]
    },
    {
      "cell_type": "markdown",
      "metadata": {
        "id": "39V8Z5yfUQBd"
      },
      "source": [
        "## 3.2 Using the NLP extraction algorithm\n",
        "\n",
        "Plot the  primary Kaplan-Meier estimates for the whole `df_note_annotated_grouped` dataFrame"
      ]
    },
    {
      "cell_type": "code",
      "execution_count": 23,
      "metadata": {
        "colab": {
          "base_uri": "https://localhost:8080/",
          "height": 548
        },
        "id": "UhzMUD_bUQBd",
        "outputId": "be20e0db-d6ca-444c-bd26-bf58362e924d",
        "tags": []
      },
      "outputs": [
        {
          "data": {
            "image/png": "[encoded data removed]",
            "text/plain": [
              "<Figure size 1050x550 with 4 Axes>"
            ]
          },
          "metadata": {},
          "output_type": "display_data"
        }
      ],
      "source": [
        "plot_primary_kaplan(df_person, [(df_visit, df_note_annotated_grouped, 'all population')], t_end_of_study)"
      ]
    },
    {
      "cell_type": "markdown",
      "metadata": {
        "id": "lVYspxkaUQBd"
      },
      "source": [
        "In this exercise we have illustrated some challenges related to handling clinical notes when conducting a study using real-world data. We have shown that different approaches may be adopted and compared."
      ]
    },
    {
      "cell_type": "markdown",
      "metadata": {
        "id": "_tLAXcF9UQBd"
      },
      "source": [
        "# 4. Takeaways\n",
        "\n",
        "- **Clinical notes** are unstructured data that contain numerous pieces of information but that are challenging to analyze. Specific pre-processing pipelines should be developed, validated and deployed to extract structured variables out of unstructured texts (**Natural Language Processing** algorithms - NLP).\n",
        "- Natural Language processing algorithms rely either on a **rule-based approach** or on a **machine learning approach**. Here we implemented only the rule-based approach, which is technically simpler than machine learning approaches, but require a strong contribution from expert clinicians to handcraft rules. Both approaches have their pros and cons and they may be compared on some specific tasks.\n",
        "- A single variable used at the statistical analysis stage may be **defined leveraging various sources of data**, either structured or unstructured. The methodology used to define each variable may impact the result of the statistical analysis, and it should consequently be discussed."
      ]
    },
    {
      "cell_type": "markdown",
      "metadata": {
        "id": "UhqGzSJJUQBd"
      },
      "source": [
        "# 5. References\n",
        "\n",
        "- Honnibal, Matthew, Ines Montani, Matthew Honnibal, Henning Peters, Sofie Van Landeghem, Maxim Samsonov, Jim Geovedi, et al. explosion/spaCy: v2.1.7: Improved evaluation, better language factories and bug fixes. Zenodo, 2019. https://doi.org/10.5281/zenodo.3358113.\n",
        "- Aronow, D. B., F. Fangfang, et W. B. Croft. « Ad Hoc Classification of Radiology Reports ». Journal of the American Medical Informatics Association 6, nᵒ 5 (1 septembre 1999): 393‑411. https://doi.org/10.1136/jamia.1999.0060393.\n",
        "- Garcelon, Nicolas, Antoine Neuraz, Vincent Benoit, Rémi Salomon, et Anita Burgun. « Improving a Full-Text Search Engine: The Importance of Negation Detection and Family History Context to Identify Cases in a Biomedical Data Warehouse ». Journal of the American Medical Informatics Association, 20 octobre 2016, ocw144. https://doi.org/10.1093/jamia/ocw144.\n",
        "- Jouffroy, Jordan, Sarah F Feldman, Ivan Lerner, Bastien Rance, Anita Burgun, et Antoine Neuraz. « Hybrid Deep Learning for Medication-Related Information Extraction From Clinical Texts in French: MedExt Algorithm Development Study ». JMIR Medical Informatics 9, nᵒ 3 (16 mars 2021): e17934. https://doi.org/10.2196/17934.\n",
        "- Névéol, Aurélie, Hercules Dalianis, Sumithra Velupillai, Guergana Savova, et Pierre Zweigenbaum. « Clinical Natural Language Processing in Languages Other than English: Opportunities and Challenges ». Journal of Biomedical Semantics 9, nᵒ 1 (décembre 2018): 12. https://doi.org/10.1186/s13326-018-0179-8."
      ]
    }
  ],
  "metadata": {
    "colab": {
      "provenance": []
    },
    "kernelspec": {
      "display_name": ".venv",
      "language": "python",
      "name": "python3"
    },
    "language_info": {
      "codemirror_mode": {
        "name": "ipython",
        "version": 3
      },
      "file_extension": ".py",
      "mimetype": "text/x-python",
      "name": "python",
      "nbconvert_exporter": "python",
      "pygments_lexer": "ipython3",
      "version": "3.11.9"
    }
  },
  "nbformat": 4,
  "nbformat_minor": 0
}
