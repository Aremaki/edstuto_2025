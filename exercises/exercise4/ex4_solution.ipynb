{
 "cells": [
  {
   "cell_type": "code",
   "execution_count": 1,
   "metadata": {},
   "outputs": [],
   "source": [
    "%load_ext autoreload\n",
    "%autoreload 2"
   ]
  },
  {
   "cell_type": "markdown",
   "metadata": {},
   "source": [
    "# Exercise 4: Biostatistical analysis"
   ]
  },
  {
   "cell_type": "markdown",
   "metadata": {},
   "source": [
    "Clinicians asked us to dig further the analysis on the drugA medication and try to quantify its effect on death event, along with other clinical and biological features. To that end, we will compare the population that are prescribed brugB to the control population. \n",
    "<br> We will want to build a table as follow : \n"
   ]
  },
  {
   "cell_type": "markdown",
   "metadata": {
    "tags": []
   },
   "source": [
    "|   | Population 1   | Population 2  | p-value  |\n",
    "|---|---|---|---|\n",
    "| age, mean (IQR)  |  xxx | xxx  | xxx  |\n",
    "| men, % | xxx  | xxx  | xxx  |\n",
    "| cancer patients, %  | xxx  | xxx  | xxx  |\n",
    "| diabetes patients, % | xxx  | xxx  | xxx  |\n",
    "| bmi, mean (IQR)  |  xxx | xxx  | xxx  |\n",
    "| crp, mean (IQR)  |  xxx | xxx  | xxx  |\n",
    "| urea, mean (IQR)  |  xxx | xxx  | xxx  |\n",
    "| Hemoglobine, mean (IQR)  |  xxx | xxx  | xxx  |\n"
   ]
  },
  {
   "cell_type": "markdown",
   "metadata": {},
   "source": [
    "The p-value column compares, for each caracteristic, the population 1 and the population 2. \n",
    "<br> We will admit that a p-value under 0.05 is significant."
   ]
  },
  {
   "cell_type": "markdown",
   "metadata": {},
   "source": [
    "A restricted view of the database has been constructed to remove information about the patients prescribed with drugB, so that we can focus on drugA vs control population.\n",
    "Let's assume for this exercise that this view has also been cleaned up by a previous pre-processing work (cf ex 1,2,3). We will focus on merging the different tables available into one that we will use to perform our statistical analyses."
   ]
  },
  {
   "cell_type": "markdown",
   "metadata": {},
   "source": [
    "The following libraries are required to go through this notebook:"
   ]
  },
  {
   "cell_type": "code",
   "execution_count": 2,
   "metadata": {},
   "outputs": [],
   "source": [
    "import pandas as pd\n",
    "import numpy as np\n",
    "\n",
    "# For descriptive statistics\n",
    "from scipy.stats import ttest_ind, chi2_contingency\n",
    "\n",
    "# For Logistic Models implementation\n",
    "from statsmodels.formula.api import logit, glm"
   ]
  },
  {
   "cell_type": "markdown",
   "metadata": {},
   "source": [
    "# Table of content"
   ]
  },
  {
   "cell_type": "markdown",
   "metadata": {},
   "source": [
    "1. [Preprocessing](#preprocessing)  \n",
    "    1.1 [Age](#age)  \n",
    "    1.2 [Gender](#gender)  \n",
    "    1.3 [Comorbidities](#comorb)  \n",
    "    1.4 [Biological values](#bio)  \n",
    "    1.5 [Medication data](#med)\n",
    "2. [Descriptive statistics](#stat)  \n",
    "\n",
    "4. [Takeaways](#takeaways)\n"
   ]
  },
  {
   "cell_type": "markdown",
   "metadata": {},
   "source": [
    "<a id=\"preprocessing\"></a>\n",
    "# 1. Preprocessing"
   ]
  },
  {
   "cell_type": "markdown",
   "metadata": {},
   "source": [
    "The main objective of this step is to prepare a dataset for each cohort with the characteristics we need to compare the 2 cohorts."
   ]
  },
  {
   "cell_type": "markdown",
   "metadata": {},
   "source": [
    "Hence, we will create a DataFrame with one row by patient, having the following columns:\n",
    "\n",
    "- age at the time of the visit (*int*)\n",
    "- male (*bool*)\n",
    "- comorbidities : cancer antecedent and diabetes (*bool*)\n",
    "- biological profile at the time of admission (*float*). The following items were measured for each patient : bmi, urea, hemoglobin, crp.\n",
    "- medication\n",
    "\n",
    "Then, we will split this dataframe in two :  we will create a ```pd.dataframe``` *df_control* and a ```pd.dataframe``` *df_drugA*."
   ]
  },
  {
   "cell_type": "markdown",
   "metadata": {},
   "source": [
    "**NB: For the sake of simplicity, we assume that all the available tables have been pre-processed (deduplication, NLP enhancing , data cleaning, ...) and can be used as is. Moreover, we assume that each patient has one and only visit associated.**"
   ]
  },
  {
   "cell_type": "markdown",
   "metadata": {},
   "source": [
    "Open the following files using the `pandas.read_pickle()` function : \n",
    "  - *data/df_person.pkl* as `df_person`\n",
    "  - *data/df_visit.pkl* as `df_visit`\n",
    "  - *data/df_condition.pkl* as `df_cond`\n",
    "  - *data/df_med.pkl* as `df_med`\n",
    "  - *data/df_bio.pkl* as `df_bio.pkl`"
   ]
  },
  {
   "cell_type": "code",
   "execution_count": 3,
   "metadata": {},
   "outputs": [],
   "source": [
    "# Patients\n",
    "df_person = pd.read_pickle('data/df_person.pkl')\n",
    "# Visits\n",
    "df_visit = pd.read_pickle('data/df_visit.pkl')\n",
    "# Diagnosis (condition)\n",
    "df_condition = pd.read_pickle('data/df_condition.pkl')\n",
    "# Medication\n",
    "df_med = pd.read_pickle('data/df_med.pkl')\n",
    "# Biology\n",
    "df_bio = pd.read_pickle('data/df_bio.pkl')"
   ]
  },
  {
   "cell_type": "markdown",
   "metadata": {},
   "source": [
    "Create the base output dataset (format : `pandas.DataFrame` ; name : `data`)  from the `df_person` table, gathering patient id, gender, birth and death dates."
   ]
  },
  {
   "cell_type": "code",
   "execution_count": 4,
   "metadata": {},
   "outputs": [],
   "source": [
    "data = df_person[[\"person_id\", \"birth_datetime\", \"gender_source_value\" ,\"death_datetime\"]]"
   ]
  },
  {
   "cell_type": "markdown",
   "metadata": {},
   "source": [
    "Check the size of the dataframe using `dataframe.shape()`"
   ]
  },
  {
   "cell_type": "code",
   "execution_count": 5,
   "metadata": {},
   "outputs": [
    {
     "data": {
      "text/plain": [
       "(1890, 4)"
      ]
     },
     "execution_count": 5,
     "metadata": {},
     "output_type": "execute_result"
    }
   ],
   "source": [
    "data.shape"
   ]
  },
  {
   "cell_type": "markdown",
   "metadata": {
    "tags": []
   },
   "source": [
    "<a id=\"age\"></a>\n",
    "## 1.1 Age"
   ]
  },
  {
   "cell_type": "markdown",
   "metadata": {},
   "source": [
    "Compute the patient age at the time of their hospitalization."
   ]
  },
  {
   "cell_type": "markdown",
   "metadata": {},
   "source": [
    "TIPS : \n",
    "- Inner join the `data` dataset and the `df_visit` dataset on `person_id` using the `pandas.merge()` function (see [doc](https://pandas.pydata.org/docs/reference/api/pandas.merge.html))\n",
    "- Create an `age` column compute the age for each patient."
   ]
  },
  {
   "cell_type": "code",
   "execution_count": 6,
   "metadata": {},
   "outputs": [],
   "source": [
    "data = pd.merge(data, df_visit[[\"person_id\", \"visit_occurrence_id\" ,\"visit_start_datetime\"]], on=\"person_id\", how=\"inner\")"
   ]
  },
  {
   "cell_type": "code",
   "execution_count": 7,
   "metadata": {},
   "outputs": [],
   "source": [
    "data['age'] = (data['visit_start_datetime'] - data['birth_datetime']).dt.days/ 365"
   ]
  },
  {
   "cell_type": "markdown",
   "metadata": {},
   "source": [
    "<a id=\"gender\"></a>\n",
    "## 1.2 Gender"
   ]
  },
  {
   "cell_type": "markdown",
   "metadata": {},
   "source": [
    "Create a \"male\" boolean column to identify if the patient is a male (1) or a female (0)."
   ]
  },
  {
   "cell_type": "code",
   "execution_count": 8,
   "metadata": {},
   "outputs": [],
   "source": [
    "data[\"male\"] = data.gender_source_value == \"m\""
   ]
  },
  {
   "cell_type": "markdown",
   "metadata": {},
   "source": [
    "<a id=\"comorb\"></a>\n",
    "## 1.3 Comorbidities : history of cancer and diabetes"
   ]
  },
  {
   "cell_type": "markdown",
   "metadata": {},
   "source": [
    "Meetings with experts lead us to identify the ICD-10 codes corresponding to history of cancer and diabetes :\n",
    "- cancer : [\"Z851\", \"Z852\", \"Z853\"]\n",
    "- diabetes : [\"E10\", \"E11\", \"E12\"]"
   ]
  },
  {
   "cell_type": "markdown",
   "metadata": {},
   "source": [
    "Tag each code in the `df_cond` Dataframe corresponding to diabetes or cancer antecedent."
   ]
  },
  {
   "cell_type": "markdown",
   "metadata": {},
   "source": [
    "TIP: you can build a `code_to_comorb` dictionary mapping each ICD-10 code to its corresponding comorbidity, and use the pandas `df.col_name.map(dict)` built-function to map the values of the `condition_source_value` column."
   ]
  },
  {
   "cell_type": "code",
   "execution_count": 9,
   "metadata": {},
   "outputs": [],
   "source": [
    "comorb_to_code = {\n",
    "    \"diabetes\": [\"E10\", \"E11\", \"E12\"],\n",
    "    \"history_cancer\": [\"Z851\", \"Z852\", \"Z853\"]\n",
    "}"
   ]
  },
  {
   "cell_type": "code",
   "execution_count": 10,
   "metadata": {},
   "outputs": [],
   "source": [
    "code_to_comorb = {}\n",
    "for key,codes_list in comorb_to_code.items():\n",
    "    for code in codes_list:\n",
    "        code_to_comorb[code]=key"
   ]
  },
  {
   "cell_type": "code",
   "execution_count": 11,
   "metadata": {},
   "outputs": [],
   "source": [
    "df_condition[\"comorbidity\"] = df_condition.condition_source_value.map(code_to_comorb)"
   ]
  },
  {
   "cell_type": "markdown",
   "metadata": {},
   "source": [
    "Create a `df_comorbidities` DataFrame by selecting the condition codes corresponding to the desired comorbidities."
   ]
  },
  {
   "cell_type": "markdown",
   "metadata": {},
   "source": [
    "TIP : \n",
    "You can use the `df.col_name.notna()` built-in function : \n",
    "```python \n",
    "df[df.col_name.notna()]\n",
    "```"
   ]
  },
  {
   "cell_type": "code",
   "execution_count": 12,
   "metadata": {},
   "outputs": [],
   "source": [
    "df_comorbidities = df_condition[df_condition.comorbidity.notna()]"
   ]
  },
  {
   "cell_type": "markdown",
   "metadata": {},
   "source": [
    "How many patients have cancer antecedent ? How many have had diabetes ?\n",
    "\n",
    "TIP : Use the `df.col_name.value_counts()` function"
   ]
  },
  {
   "cell_type": "code",
   "execution_count": 13,
   "metadata": {},
   "outputs": [
    {
     "data": {
      "text/plain": [
       "comorbidity\n",
       "diabetes          194\n",
       "history_cancer     25\n",
       "Name: count, dtype: int64"
      ]
     },
     "execution_count": 13,
     "metadata": {},
     "output_type": "execute_result"
    }
   ],
   "source": [
    "df_comorbidities.comorbidity.value_counts()"
   ]
  },
  {
   "cell_type": "code",
   "execution_count": 14,
   "metadata": {},
   "outputs": [
    {
     "data": {
      "text/html": [
       "<div>\n",
       "<style scoped>\n",
       "    .dataframe tbody tr th:only-of-type {\n",
       "        vertical-align: middle;\n",
       "    }\n",
       "\n",
       "    .dataframe tbody tr th {\n",
       "        vertical-align: top;\n",
       "    }\n",
       "\n",
       "    .dataframe thead th {\n",
       "        text-align: right;\n",
       "    }\n",
       "</style>\n",
       "<table border=\"1\" class=\"dataframe\">\n",
       "  <thead>\n",
       "    <tr style=\"text-align: right;\">\n",
       "      <th></th>\n",
       "      <th>visit_occurrence_id</th>\n",
       "      <th>person_id</th>\n",
       "      <th>condition_occurrence_id</th>\n",
       "      <th>condition_source_value</th>\n",
       "      <th>comorbidity</th>\n",
       "    </tr>\n",
       "  </thead>\n",
       "  <tbody>\n",
       "    <tr>\n",
       "      <th>0</th>\n",
       "      <td>85959790</td>\n",
       "      <td>82569555</td>\n",
       "      <td>83492575</td>\n",
       "      <td>E12</td>\n",
       "      <td>diabetes</td>\n",
       "    </tr>\n",
       "    <tr>\n",
       "      <th>0</th>\n",
       "      <td>80863003</td>\n",
       "      <td>84633956</td>\n",
       "      <td>82932614</td>\n",
       "      <td>E10</td>\n",
       "      <td>diabetes</td>\n",
       "    </tr>\n",
       "    <tr>\n",
       "      <th>1</th>\n",
       "      <td>87486814</td>\n",
       "      <td>86129687</td>\n",
       "      <td>82405925</td>\n",
       "      <td>E10</td>\n",
       "      <td>diabetes</td>\n",
       "    </tr>\n",
       "    <tr>\n",
       "      <th>2</th>\n",
       "      <td>80024103</td>\n",
       "      <td>81187942</td>\n",
       "      <td>83201879</td>\n",
       "      <td>E10</td>\n",
       "      <td>diabetes</td>\n",
       "    </tr>\n",
       "    <tr>\n",
       "      <th>3</th>\n",
       "      <td>83375405</td>\n",
       "      <td>80228742</td>\n",
       "      <td>83314500</td>\n",
       "      <td>E10</td>\n",
       "      <td>diabetes</td>\n",
       "    </tr>\n",
       "  </tbody>\n",
       "</table>\n",
       "</div>"
      ],
      "text/plain": [
       "   visit_occurrence_id  person_id  condition_occurrence_id  \\\n",
       "0             85959790   82569555                 83492575   \n",
       "0             80863003   84633956                 82932614   \n",
       "1             87486814   86129687                 82405925   \n",
       "2             80024103   81187942                 83201879   \n",
       "3             83375405   80228742                 83314500   \n",
       "\n",
       "  condition_source_value comorbidity  \n",
       "0                    E12    diabetes  \n",
       "0                    E10    diabetes  \n",
       "1                    E10    diabetes  \n",
       "2                    E10    diabetes  \n",
       "3                    E10    diabetes  "
      ]
     },
     "execution_count": 14,
     "metadata": {},
     "output_type": "execute_result"
    }
   ],
   "source": [
    "df_comorbidities.head()"
   ]
  },
  {
   "cell_type": "markdown",
   "metadata": {},
   "source": [
    "The `df_comorbidities` DataFrame is composed of one row per condition source value (either cancer or diabete).\n",
    "<br> A patient can have multiple rows depending on how many conditions they have.\n",
    "\n",
    "Now, we will create a dataframe with one row per patient and per visit : \n",
    "<br>NB : each patient only has one and only visit\n",
    "\n",
    "| visit_occurrence_id | person_id  | history_cancer | diabetes |\n",
    "| :------------------ | :----------|:------------| :---------- |\n",
    "| aaa | xxx | True |  True |\n",
    "| bbb | yyy | False |  True |\n",
    "| ccc | zzz | False |  False |\n",
    "\n",
    "Pivot the `df_comorbidities` DataFrame to have the presence of both antecedents for each patient. Don't forget to replace the NaN values by False and to reset the index !"
   ]
  },
  {
   "cell_type": "markdown",
   "metadata": {},
   "source": [
    "TIP \n",
    "You can use the [pivot](https://pandas.pydata.org/docs/reference/api/pandas.DataFrame.pivot.html) built-in function :\n",
    "```python\n",
    "df.pivot(index=[\"index_col\"], columns=[\"col\"], values=[\"value\"])\n",
    "```\n",
    "You might need to create \"artificially\" the *value* column as a True boolean, and drop the *condition_occurrence_id* column."
   ]
  },
  {
   "cell_type": "code",
   "execution_count": 15,
   "metadata": {},
   "outputs": [
    {
     "name": "stderr",
     "output_type": "stream",
     "text": [
      "/tmp/ipykernel_88537/1570770398.py:1: SettingWithCopyWarning: \n",
      "A value is trying to be set on a copy of a slice from a DataFrame.\n",
      "Try using .loc[row_indexer,col_indexer] = value instead\n",
      "\n",
      "See the caveats in the documentation: https://pandas.pydata.org/pandas-docs/stable/user_guide/indexing.html#returning-a-view-versus-a-copy\n",
      "  df_comorbidities[\"value\"] = True\n"
     ]
    }
   ],
   "source": [
    "df_comorbidities[\"value\"] = True"
   ]
  },
  {
   "cell_type": "code",
   "execution_count": 16,
   "metadata": {},
   "outputs": [
    {
     "name": "stderr",
     "output_type": "stream",
     "text": [
      "/tmp/ipykernel_88537/2227692506.py:1: FutureWarning: Downcasting object dtype arrays on .fillna, .ffill, .bfill is deprecated and will change in a future version. Call result.infer_objects(copy=False) instead. To opt-in to the future behavior, set `pd.set_option('future.no_silent_downcasting', True)`\n",
      "  df_comorbidities = df_comorbidities.drop(columns=[\"condition_occurrence_id\"]).pivot(index=[\"person_id\", \"visit_occurrence_id\"], columns=[\"comorbidity\"], values=\"value\").reset_index().fillna(False)\n"
     ]
    }
   ],
   "source": [
    "df_comorbidities = df_comorbidities.drop(columns=[\"condition_occurrence_id\"]).pivot(index=[\"person_id\", \"visit_occurrence_id\"], columns=[\"comorbidity\"], values=\"value\").reset_index().fillna(False)"
   ]
  },
  {
   "cell_type": "code",
   "execution_count": 17,
   "metadata": {},
   "outputs": [
    {
     "data": {
      "text/html": [
       "<div>\n",
       "<style scoped>\n",
       "    .dataframe tbody tr th:only-of-type {\n",
       "        vertical-align: middle;\n",
       "    }\n",
       "\n",
       "    .dataframe tbody tr th {\n",
       "        vertical-align: top;\n",
       "    }\n",
       "\n",
       "    .dataframe thead th {\n",
       "        text-align: right;\n",
       "    }\n",
       "</style>\n",
       "<table border=\"1\" class=\"dataframe\">\n",
       "  <thead>\n",
       "    <tr style=\"text-align: right;\">\n",
       "      <th>comorbidity</th>\n",
       "      <th>person_id</th>\n",
       "      <th>visit_occurrence_id</th>\n",
       "      <th>diabetes</th>\n",
       "      <th>history_cancer</th>\n",
       "    </tr>\n",
       "  </thead>\n",
       "  <tbody>\n",
       "    <tr>\n",
       "      <th>0</th>\n",
       "      <td>80034951</td>\n",
       "      <td>87595142</td>\n",
       "      <td>True</td>\n",
       "      <td>False</td>\n",
       "    </tr>\n",
       "    <tr>\n",
       "      <th>1</th>\n",
       "      <td>80052576</td>\n",
       "      <td>88202225</td>\n",
       "      <td>True</td>\n",
       "      <td>False</td>\n",
       "    </tr>\n",
       "    <tr>\n",
       "      <th>2</th>\n",
       "      <td>80093393</td>\n",
       "      <td>82578548</td>\n",
       "      <td>False</td>\n",
       "      <td>True</td>\n",
       "    </tr>\n",
       "    <tr>\n",
       "      <th>3</th>\n",
       "      <td>80158049</td>\n",
       "      <td>89883141</td>\n",
       "      <td>True</td>\n",
       "      <td>False</td>\n",
       "    </tr>\n",
       "    <tr>\n",
       "      <th>4</th>\n",
       "      <td>80185028</td>\n",
       "      <td>84757067</td>\n",
       "      <td>True</td>\n",
       "      <td>False</td>\n",
       "    </tr>\n",
       "  </tbody>\n",
       "</table>\n",
       "</div>"
      ],
      "text/plain": [
       "comorbidity  person_id  visit_occurrence_id  diabetes  history_cancer\n",
       "0             80034951             87595142      True           False\n",
       "1             80052576             88202225      True           False\n",
       "2             80093393             82578548     False            True\n",
       "3             80158049             89883141      True           False\n",
       "4             80185028             84757067      True           False"
      ]
     },
     "execution_count": 17,
     "metadata": {},
     "output_type": "execute_result"
    }
   ],
   "source": [
    "df_comorbidities.head()"
   ]
  },
  {
   "cell_type": "code",
   "execution_count": 18,
   "metadata": {},
   "outputs": [
    {
     "data": {
      "text/plain": [
       "(219, 4)"
      ]
     },
     "execution_count": 18,
     "metadata": {},
     "output_type": "execute_result"
    }
   ],
   "source": [
    "df_comorbidities.shape"
   ]
  },
  {
   "cell_type": "code",
   "execution_count": 19,
   "metadata": {},
   "outputs": [
    {
     "data": {
      "text/plain": [
       "(1890, 5)"
      ]
     },
     "execution_count": 19,
     "metadata": {},
     "output_type": "execute_result"
    }
   ],
   "source": [
    "df_person.shape"
   ]
  },
  {
   "cell_type": "markdown",
   "metadata": {},
   "source": [
    "Merge the `data` DataFrame with the obtained `df_comorbidities` to summarize comorbidities information for each patient.\n",
    "\n",
    "TIP:  \n",
    "- Think twice about the type of merging you want to perform\n",
    "- Do not forget to fill NA values for the comorbidity columns with False !"
   ]
  },
  {
   "cell_type": "code",
   "execution_count": 20,
   "metadata": {},
   "outputs": [
    {
     "name": "stderr",
     "output_type": "stream",
     "text": [
      "/tmp/ipykernel_88537/4221394277.py:1: FutureWarning: Downcasting object dtype arrays on .fillna, .ffill, .bfill is deprecated and will change in a future version. Call result.infer_objects(copy=False) instead. To opt-in to the future behavior, set `pd.set_option('future.no_silent_downcasting', True)`\n",
      "  data = pd.merge(data, df_comorbidities[[\"person_id\", \"history_cancer\", \"diabetes\"]], on=\"person_id\", how=\"left\").fillna({\"history_cancer\":False, \"diabetes\":False})\n"
     ]
    }
   ],
   "source": [
    "data = pd.merge(data, df_comorbidities[[\"person_id\", \"history_cancer\", \"diabetes\"]], on=\"person_id\", how=\"left\").fillna({\"history_cancer\":False, \"diabetes\":False})"
   ]
  },
  {
   "cell_type": "code",
   "execution_count": 21,
   "metadata": {},
   "outputs": [
    {
     "data": {
      "text/html": [
       "<div>\n",
       "<style scoped>\n",
       "    .dataframe tbody tr th:only-of-type {\n",
       "        vertical-align: middle;\n",
       "    }\n",
       "\n",
       "    .dataframe tbody tr th {\n",
       "        vertical-align: top;\n",
       "    }\n",
       "\n",
       "    .dataframe thead th {\n",
       "        text-align: right;\n",
       "    }\n",
       "</style>\n",
       "<table border=\"1\" class=\"dataframe\">\n",
       "  <thead>\n",
       "    <tr style=\"text-align: right;\">\n",
       "      <th></th>\n",
       "      <th>person_id</th>\n",
       "      <th>birth_datetime</th>\n",
       "      <th>gender_source_value</th>\n",
       "      <th>death_datetime</th>\n",
       "      <th>visit_occurrence_id</th>\n",
       "      <th>visit_start_datetime</th>\n",
       "      <th>age</th>\n",
       "      <th>male</th>\n",
       "      <th>history_cancer</th>\n",
       "      <th>diabetes</th>\n",
       "    </tr>\n",
       "  </thead>\n",
       "  <tbody>\n",
       "    <tr>\n",
       "      <th>0</th>\n",
       "      <td>89467153</td>\n",
       "      <td>2018-04-28</td>\n",
       "      <td>f</td>\n",
       "      <td>NaT</td>\n",
       "      <td>87725253</td>\n",
       "      <td>2023-03-31</td>\n",
       "      <td>4.926027</td>\n",
       "      <td>False</td>\n",
       "      <td>False</td>\n",
       "      <td>False</td>\n",
       "    </tr>\n",
       "    <tr>\n",
       "      <th>1</th>\n",
       "      <td>86880281</td>\n",
       "      <td>2022-05-22</td>\n",
       "      <td>f</td>\n",
       "      <td>NaT</td>\n",
       "      <td>84772172</td>\n",
       "      <td>2023-09-09</td>\n",
       "      <td>1.301370</td>\n",
       "      <td>False</td>\n",
       "      <td>False</td>\n",
       "      <td>False</td>\n",
       "    </tr>\n",
       "    <tr>\n",
       "      <th>2</th>\n",
       "      <td>85537116</td>\n",
       "      <td>2019-08-15</td>\n",
       "      <td>f</td>\n",
       "      <td>2023-03-31</td>\n",
       "      <td>86533686</td>\n",
       "      <td>2023-03-30</td>\n",
       "      <td>3.624658</td>\n",
       "      <td>False</td>\n",
       "      <td>False</td>\n",
       "      <td>False</td>\n",
       "    </tr>\n",
       "    <tr>\n",
       "      <th>3</th>\n",
       "      <td>85893459</td>\n",
       "      <td>2022-05-23</td>\n",
       "      <td>f</td>\n",
       "      <td>NaT</td>\n",
       "      <td>87858279</td>\n",
       "      <td>2024-06-05</td>\n",
       "      <td>2.038356</td>\n",
       "      <td>False</td>\n",
       "      <td>False</td>\n",
       "      <td>False</td>\n",
       "    </tr>\n",
       "    <tr>\n",
       "      <th>4</th>\n",
       "      <td>83878022</td>\n",
       "      <td>2018-02-10</td>\n",
       "      <td>f</td>\n",
       "      <td>2021-09-17</td>\n",
       "      <td>80165196</td>\n",
       "      <td>2021-09-14</td>\n",
       "      <td>3.594521</td>\n",
       "      <td>False</td>\n",
       "      <td>False</td>\n",
       "      <td>False</td>\n",
       "    </tr>\n",
       "  </tbody>\n",
       "</table>\n",
       "</div>"
      ],
      "text/plain": [
       "   person_id birth_datetime gender_source_value death_datetime  \\\n",
       "0   89467153     2018-04-28                   f            NaT   \n",
       "1   86880281     2022-05-22                   f            NaT   \n",
       "2   85537116     2019-08-15                   f     2023-03-31   \n",
       "3   85893459     2022-05-23                   f            NaT   \n",
       "4   83878022     2018-02-10                   f     2021-09-17   \n",
       "\n",
       "   visit_occurrence_id visit_start_datetime       age   male  history_cancer  \\\n",
       "0             87725253           2023-03-31  4.926027  False           False   \n",
       "1             84772172           2023-09-09  1.301370  False           False   \n",
       "2             86533686           2023-03-30  3.624658  False           False   \n",
       "3             87858279           2024-06-05  2.038356  False           False   \n",
       "4             80165196           2021-09-14  3.594521  False           False   \n",
       "\n",
       "   diabetes  \n",
       "0     False  \n",
       "1     False  \n",
       "2     False  \n",
       "3     False  \n",
       "4     False  "
      ]
     },
     "execution_count": 21,
     "metadata": {},
     "output_type": "execute_result"
    }
   ],
   "source": [
    "data.head()"
   ]
  },
  {
   "cell_type": "code",
   "execution_count": 22,
   "metadata": {},
   "outputs": [
    {
     "data": {
      "text/plain": [
       "np.int64(194)"
      ]
     },
     "execution_count": 22,
     "metadata": {},
     "output_type": "execute_result"
    }
   ],
   "source": [
    "data.diabetes.sum()"
   ]
  },
  {
   "cell_type": "markdown",
   "metadata": {},
   "source": [
    "<a id=\"bio\"></a>\n",
    "## 1.4 Biological profile"
   ]
  },
  {
   "cell_type": "markdown",
   "metadata": {},
   "source": [
    "Check the different biological values available."
   ]
  },
  {
   "cell_type": "code",
   "execution_count": 23,
   "metadata": {},
   "outputs": [
    {
     "data": {
      "text/plain": [
       "concept_source_value\n",
       "bmi     1890\n",
       "crp     1890\n",
       "urea    1890\n",
       "hb      1890\n",
       "Name: count, dtype: int64"
      ]
     },
     "execution_count": 23,
     "metadata": {},
     "output_type": "execute_result"
    }
   ],
   "source": [
    "df_bio.concept_source_value.value_counts()"
   ]
  },
  {
   "cell_type": "markdown",
   "metadata": {},
   "source": [
    "Create a `df_bio_processed` DataFrame with all biological values for each visit : \n",
    "\n",
    "| visit_occurrence_id | bio_A  | bio_B | bio_C |\n",
    "| :------------------ | :----------|:------------| :---------- |\n",
    "| aaa | 189 | 13 |  0.87 |\n",
    "| bbb | 160 | 11 |  0.59 |\n",
    "| ccc | 209 | 11 |  0.69 |\n",
    "\n",
    "\n",
    "TIP : Pivot the `df_bio` DataFrame and retrieve the biological values measured at the admission of each hospitalization."
   ]
  },
  {
   "cell_type": "code",
   "execution_count": 24,
   "metadata": {},
   "outputs": [],
   "source": [
    "bio_processed = df_bio[[\"visit_occurrence_id\", \"concept_source_value\", \"transformed_value\"]].pivot(index=[\"visit_occurrence_id\"], columns=\"concept_source_value\", values=\"transformed_value\").reset_index()"
   ]
  },
  {
   "cell_type": "code",
   "execution_count": 25,
   "metadata": {
    "tags": []
   },
   "outputs": [
    {
     "data": {
      "text/html": [
       "<div>\n",
       "<style scoped>\n",
       "    .dataframe tbody tr th:only-of-type {\n",
       "        vertical-align: middle;\n",
       "    }\n",
       "\n",
       "    .dataframe tbody tr th {\n",
       "        vertical-align: top;\n",
       "    }\n",
       "\n",
       "    .dataframe thead th {\n",
       "        text-align: right;\n",
       "    }\n",
       "</style>\n",
       "<table border=\"1\" class=\"dataframe\">\n",
       "  <thead>\n",
       "    <tr style=\"text-align: right;\">\n",
       "      <th>concept_source_value</th>\n",
       "      <th>visit_occurrence_id</th>\n",
       "      <th>bmi</th>\n",
       "      <th>crp</th>\n",
       "      <th>hb</th>\n",
       "      <th>urea</th>\n",
       "    </tr>\n",
       "  </thead>\n",
       "  <tbody>\n",
       "    <tr>\n",
       "      <th>0</th>\n",
       "      <td>80003497</td>\n",
       "      <td>22.45</td>\n",
       "      <td>4.56</td>\n",
       "      <td>11.81</td>\n",
       "      <td>2.21</td>\n",
       "    </tr>\n",
       "    <tr>\n",
       "      <th>1</th>\n",
       "      <td>80006041</td>\n",
       "      <td>24.64</td>\n",
       "      <td>4.39</td>\n",
       "      <td>14.16</td>\n",
       "      <td>2.29</td>\n",
       "    </tr>\n",
       "    <tr>\n",
       "      <th>2</th>\n",
       "      <td>80009885</td>\n",
       "      <td>20.55</td>\n",
       "      <td>4.48</td>\n",
       "      <td>12.92</td>\n",
       "      <td>2.11</td>\n",
       "    </tr>\n",
       "    <tr>\n",
       "      <th>3</th>\n",
       "      <td>80011713</td>\n",
       "      <td>21.48</td>\n",
       "      <td>4.69</td>\n",
       "      <td>14.74</td>\n",
       "      <td>2.72</td>\n",
       "    </tr>\n",
       "    <tr>\n",
       "      <th>4</th>\n",
       "      <td>80016377</td>\n",
       "      <td>25.92</td>\n",
       "      <td>4.63</td>\n",
       "      <td>16.38</td>\n",
       "      <td>1.94</td>\n",
       "    </tr>\n",
       "  </tbody>\n",
       "</table>\n",
       "</div>"
      ],
      "text/plain": [
       "concept_source_value  visit_occurrence_id    bmi   crp     hb  urea\n",
       "0                                80003497  22.45  4.56  11.81  2.21\n",
       "1                                80006041  24.64  4.39  14.16  2.29\n",
       "2                                80009885  20.55  4.48  12.92  2.11\n",
       "3                                80011713  21.48  4.69  14.74  2.72\n",
       "4                                80016377  25.92  4.63  16.38  1.94"
      ]
     },
     "execution_count": 25,
     "metadata": {},
     "output_type": "execute_result"
    }
   ],
   "source": [
    "bio_processed.head()"
   ]
  },
  {
   "cell_type": "markdown",
   "metadata": {},
   "source": [
    "Merge `data` and `bio_processed` on `visit_occurrence_id`\n",
    "\n",
    "TIP: Think twice about the type of merging you want to perform"
   ]
  },
  {
   "cell_type": "code",
   "execution_count": 26,
   "metadata": {},
   "outputs": [],
   "source": [
    "data = pd.merge(data, bio_processed, on=\"visit_occurrence_id\", how=\"left\")"
   ]
  },
  {
   "cell_type": "markdown",
   "metadata": {},
   "source": [
    "<a id=\"med\"></a>\n",
    "## 1.5 Medication taken"
   ]
  },
  {
   "cell_type": "markdown",
   "metadata": {},
   "source": [
    "Create a \"drugA\" boolean column in `data` indicating whether patients have taken the drugA or not. "
   ]
  },
  {
   "cell_type": "markdown",
   "metadata": {},
   "source": [
    "TIP :\n",
    "You can pivot the `df_med` DataFrame as done for the comorbidities."
   ]
  },
  {
   "cell_type": "code",
   "execution_count": 27,
   "metadata": {},
   "outputs": [],
   "source": [
    "df_med[\"value\"]=True"
   ]
  },
  {
   "cell_type": "code",
   "execution_count": 28,
   "metadata": {},
   "outputs": [],
   "source": [
    "med_processed = df_med[[\"visit_occurrence_id\", \"drug_source_value\", \"value\"]].pivot(index=[\"visit_occurrence_id\"], columns=\"drug_source_value\", values=\"value\").reset_index().fillna(False)"
   ]
  },
  {
   "cell_type": "code",
   "execution_count": 29,
   "metadata": {},
   "outputs": [
    {
     "name": "stderr",
     "output_type": "stream",
     "text": [
      "/tmp/ipykernel_88537/3011870345.py:1: FutureWarning: Downcasting object dtype arrays on .fillna, .ffill, .bfill is deprecated and will change in a future version. Call result.infer_objects(copy=False) instead. To opt-in to the future behavior, set `pd.set_option('future.no_silent_downcasting', True)`\n",
      "  data = pd.merge(data, med_processed, on=\"visit_occurrence_id\", how=\"left\").fillna({\"drugA\":False})\n"
     ]
    }
   ],
   "source": [
    "data = pd.merge(data, med_processed, on=\"visit_occurrence_id\", how=\"left\").fillna({\"drugA\":False})"
   ]
  },
  {
   "cell_type": "markdown",
   "metadata": {},
   "source": [
    "### Final step"
   ]
  },
  {
   "cell_type": "markdown",
   "metadata": {},
   "source": [
    "Select the columns you want to keep for the statistical analyses and check that you don't have missing values."
   ]
  },
  {
   "cell_type": "markdown",
   "metadata": {},
   "source": [
    "TIP : you can use the following built-in function :\n",
    "```python\n",
    "df.isna().sum()\n",
    "```\n",
    "Beware of the axis along which you sum !"
   ]
  },
  {
   "cell_type": "code",
   "execution_count": 30,
   "metadata": {},
   "outputs": [],
   "source": [
    "data = data[[\"person_id\", \"age\", \"male\", \"history_cancer\", \"diabetes\", \"bmi\", \"crp\", \"urea\", \"hb\", \"drugA\"]]"
   ]
  },
  {
   "cell_type": "code",
   "execution_count": 31,
   "metadata": {},
   "outputs": [
    {
     "data": {
      "text/plain": [
       "person_id         0\n",
       "age               0\n",
       "male              0\n",
       "history_cancer    0\n",
       "diabetes          0\n",
       "bmi               0\n",
       "crp               0\n",
       "urea              0\n",
       "hb                0\n",
       "drugA             0\n",
       "dtype: int64"
      ]
     },
     "execution_count": 31,
     "metadata": {},
     "output_type": "execute_result"
    }
   ],
   "source": [
    "data.isna().sum(axis=0)"
   ]
  },
  {
   "cell_type": "markdown",
   "metadata": {},
   "source": [
    "Split the `data` dataframe into 2 dataframes  `df_control`and `df_drugA` according to the value of `drugA`."
   ]
  },
  {
   "cell_type": "code",
   "execution_count": 32,
   "metadata": {
    "tags": []
   },
   "outputs": [],
   "source": [
    "df_control = data[data['drugA'] == False]\n",
    "df_drugA = data[data['drugA']]"
   ]
  },
  {
   "cell_type": "markdown",
   "metadata": {},
   "source": [
    "Check the size of both dataframe using `dataframe.shape()`"
   ]
  },
  {
   "cell_type": "code",
   "execution_count": 33,
   "metadata": {},
   "outputs": [
    {
     "data": {
      "text/plain": [
       "(890, 10)"
      ]
     },
     "execution_count": 33,
     "metadata": {},
     "output_type": "execute_result"
    }
   ],
   "source": [
    "## Control dataframe\n",
    "df_control.shape"
   ]
  },
  {
   "cell_type": "code",
   "execution_count": 34,
   "metadata": {},
   "outputs": [
    {
     "data": {
      "text/plain": [
       "(890, 10)"
      ]
     },
     "execution_count": 34,
     "metadata": {},
     "output_type": "execute_result"
    }
   ],
   "source": [
    "## DrugA dataframe\n",
    "df_control.shape"
   ]
  },
  {
   "cell_type": "markdown",
   "metadata": {},
   "source": [
    "<a id=\"stat\"></a>\n",
    "# 2. Descriptive statistics"
   ]
  },
  {
   "cell_type": "markdown",
   "metadata": {},
   "source": [
    "Let's compute base statistics for our features in order to catch a glimpse of our population characteristics by separating dead vs alive patients. We will compute :\n",
    "- For quantitative features : mean (std) and student t-test\n",
    "- For qualitative features : % of prevalence and Chi-sq test\n",
    "\n",
    "*Assuming that we are respecting the initial conditions of each test (iid gaussian distribution for quanti feats).*"
   ]
  },
  {
   "cell_type": "markdown",
   "metadata": {},
   "source": [
    "We are going to use the `df.groupby().agg(agg_dict)` function. Check out the doc [here](https://pandas.pydata.org/pandas-docs/version/0.22/generated/pandas.core.groupby.DataFrameGroupBy.agg.html)  \n",
    "We will therefore need to provide for each column of `data` the desired aggregation function."
   ]
  },
  {
   "cell_type": "markdown",
   "metadata": {},
   "source": [
    "Create a `prevalence` function that returns the percentage of True values from a list of booleans."
   ]
  },
  {
   "cell_type": "code",
   "execution_count": 35,
   "metadata": {},
   "outputs": [],
   "source": [
    "def prevalence(values):\n",
    "    return round(values.sum()*100 / len(values),2)"
   ]
  },
  {
   "cell_type": "markdown",
   "metadata": {},
   "source": [
    "Create a `mediane_IQR` function that returns the median and the Q1-Q3 of patients as a string"
   ]
  },
  {
   "cell_type": "code",
   "execution_count": 36,
   "metadata": {
    "tags": []
   },
   "outputs": [],
   "source": [
    "def mediane_IQR(values):\n",
    "    return str(round(values.median(), 2)) + ' (' + str(round(values.quantile(0.25), 2)) + '-' +  str(round(values.quantile(0.75), 2)) + ')'"
   ]
  },
  {
   "cell_type": "markdown",
   "metadata": {},
   "source": [
    "Create the \"agg_dict\" dictionary storing for each column name (keys) the list of transforming functions (values). You can use the `np.mean` and `np.std` registered functions."
   ]
  },
  {
   "cell_type": "markdown",
   "metadata": {},
   "source": [
    "TIP : Example\n",
    "```python\n",
    "agg_dict = {\n",
    "    \"person_id\": [\"count\"],\n",
    "    \"age\": [mediane_IQR],\n",
    "    ...\n",
    "}\n",
    "```"
   ]
  },
  {
   "cell_type": "code",
   "execution_count": 37,
   "metadata": {
    "tags": []
   },
   "outputs": [],
   "source": [
    "agg_dict = {\n",
    "    \"person_id\": [\"count\"],\n",
    "    \"age\": [mediane_IQR],\n",
    "    \"male\": [prevalence],\n",
    "    \"history_cancer\" : [prevalence],\n",
    "    \"diabetes\" : [prevalence],\n",
    "    \"bmi\" : [mediane_IQR],\n",
    "    \"crp\": [mediane_IQR],\n",
    "    \"hb\": [mediane_IQR],\n",
    "    \"urea\": [mediane_IQR],\n",
    "}"
   ]
  },
  {
   "cell_type": "markdown",
   "metadata": {},
   "source": [
    "Create a summary DataFrame from `data` using the predefined `agg_dict` to compare base statistics between the cohort taking drugA and the control cohort."
   ]
  },
  {
   "cell_type": "code",
   "execution_count": 38,
   "metadata": {},
   "outputs": [],
   "source": [
    "data_summary = data.groupby(\"drugA\").agg(agg_dict).T"
   ]
  },
  {
   "cell_type": "code",
   "execution_count": 39,
   "metadata": {},
   "outputs": [
    {
     "data": {
      "text/html": [
       "<div>\n",
       "<style scoped>\n",
       "    .dataframe tbody tr th:only-of-type {\n",
       "        vertical-align: middle;\n",
       "    }\n",
       "\n",
       "    .dataframe tbody tr th {\n",
       "        vertical-align: top;\n",
       "    }\n",
       "\n",
       "    .dataframe thead th {\n",
       "        text-align: right;\n",
       "    }\n",
       "</style>\n",
       "<table border=\"1\" class=\"dataframe\">\n",
       "  <thead>\n",
       "    <tr style=\"text-align: right;\">\n",
       "      <th></th>\n",
       "      <th>drugA</th>\n",
       "      <th>False</th>\n",
       "      <th>True</th>\n",
       "    </tr>\n",
       "  </thead>\n",
       "  <tbody>\n",
       "    <tr>\n",
       "      <th>person_id</th>\n",
       "      <th>count</th>\n",
       "      <td>890</td>\n",
       "      <td>1000</td>\n",
       "    </tr>\n",
       "    <tr>\n",
       "      <th>age</th>\n",
       "      <th>mediane_IQR</th>\n",
       "      <td>54.83 (32.6-78.96)</td>\n",
       "      <td>51.91 (25.07-74.2)</td>\n",
       "    </tr>\n",
       "    <tr>\n",
       "      <th>male</th>\n",
       "      <th>prevalence</th>\n",
       "      <td>50.0</td>\n",
       "      <td>50.0</td>\n",
       "    </tr>\n",
       "    <tr>\n",
       "      <th>history_cancer</th>\n",
       "      <th>prevalence</th>\n",
       "      <td>0.9</td>\n",
       "      <td>1.7</td>\n",
       "    </tr>\n",
       "    <tr>\n",
       "      <th>diabetes</th>\n",
       "      <th>prevalence</th>\n",
       "      <td>10.56</td>\n",
       "      <td>10.0</td>\n",
       "    </tr>\n",
       "    <tr>\n",
       "      <th>bmi</th>\n",
       "      <th>mediane_IQR</th>\n",
       "      <td>21.42 (19.56-23.35)</td>\n",
       "      <td>21.64 (19.69-23.5)</td>\n",
       "    </tr>\n",
       "    <tr>\n",
       "      <th>crp</th>\n",
       "      <th>mediane_IQR</th>\n",
       "      <td>4.51 (4.36-4.7)</td>\n",
       "      <td>4.51 (4.35-4.69)</td>\n",
       "    </tr>\n",
       "    <tr>\n",
       "      <th>hb</th>\n",
       "      <th>mediane_IQR</th>\n",
       "      <td>13.54 (12.42-14.57)</td>\n",
       "      <td>13.43 (12.29-14.49)</td>\n",
       "    </tr>\n",
       "    <tr>\n",
       "      <th>urea</th>\n",
       "      <th>mediane_IQR</th>\n",
       "      <td>2.0 (1.75-2.24)</td>\n",
       "      <td>1.98 (1.72-2.24)</td>\n",
       "    </tr>\n",
       "  </tbody>\n",
       "</table>\n",
       "</div>"
      ],
      "text/plain": [
       "drugA                                     False                True \n",
       "person_id      count                        890                 1000\n",
       "age            mediane_IQR   54.83 (32.6-78.96)   51.91 (25.07-74.2)\n",
       "male           prevalence                  50.0                 50.0\n",
       "history_cancer prevalence                   0.9                  1.7\n",
       "diabetes       prevalence                 10.56                 10.0\n",
       "bmi            mediane_IQR  21.42 (19.56-23.35)   21.64 (19.69-23.5)\n",
       "crp            mediane_IQR      4.51 (4.36-4.7)     4.51 (4.35-4.69)\n",
       "hb             mediane_IQR  13.54 (12.42-14.57)  13.43 (12.29-14.49)\n",
       "urea           mediane_IQR      2.0 (1.75-2.24)     1.98 (1.72-2.24)"
      ]
     },
     "execution_count": 39,
     "metadata": {},
     "output_type": "execute_result"
    }
   ],
   "source": [
    "data_summary"
   ]
  },
  {
   "cell_type": "markdown",
   "metadata": {},
   "source": [
    "Compute statistical tests to assess the significancy of the resulting difference between the dead and the living groups.  \n",
    "For numerical values (age and bio), you can compute the p-values associated to Student t-tests (function `ttest_ind`, doc [here](https://docs.scipy.org/doc/scipy/reference/generated/scipy.stats.ttest_ind.html)), and for categorical values (gender, comorbidities and drug) chi-sq tests (function `chi2_contigency`, doc [here](https://docs.scipy.org/doc/scipy/reference/generated/scipy.stats.chi2_contingency.html))."
   ]
  },
  {
   "cell_type": "markdown",
   "metadata": {},
   "source": [
    "TIP : \n",
    "You may need to use the two seperated dataframes `df_control` and `df_drugA` for the t-test"
   ]
  },
  {
   "cell_type": "code",
   "execution_count": 40,
   "metadata": {},
   "outputs": [],
   "source": [
    "numerical = [\"age\", \"bmi\", \"crp\", \"hb\", \"urea\"]\n",
    "test_categorical = [\"male\", \"history_cancer\", \"diabetes\", \"drugB\"]"
   ]
  },
  {
   "cell_type": "code",
   "execution_count": 41,
   "metadata": {},
   "outputs": [],
   "source": [
    "for feat, sub_value in data_summary.index:\n",
    "    if feat in numerical:\n",
    "        data_summary.loc[(feat,sub_value),\"t-test\"] = round(ttest_ind(df_control[feat], df_drugA[feat])[1],4)\n",
    "\n",
    "    if feat in test_categorical:\n",
    "        data_summary.loc[(feat,sub_value),\"chi-sq\"] = round(chi2_contingency(pd.crosstab(data[\"drugA\"], data[feat]))[1],4)"
   ]
  },
  {
   "cell_type": "code",
   "execution_count": 42,
   "metadata": {
    "tags": []
   },
   "outputs": [
    {
     "data": {
      "text/html": [
       "<div>\n",
       "<style scoped>\n",
       "    .dataframe tbody tr th:only-of-type {\n",
       "        vertical-align: middle;\n",
       "    }\n",
       "\n",
       "    .dataframe tbody tr th {\n",
       "        vertical-align: top;\n",
       "    }\n",
       "\n",
       "    .dataframe thead th {\n",
       "        text-align: right;\n",
       "    }\n",
       "</style>\n",
       "<table border=\"1\" class=\"dataframe\">\n",
       "  <thead>\n",
       "    <tr style=\"text-align: right;\">\n",
       "      <th></th>\n",
       "      <th>drugA</th>\n",
       "      <th>False</th>\n",
       "      <th>True</th>\n",
       "      <th>t-test</th>\n",
       "      <th>chi-sq</th>\n",
       "    </tr>\n",
       "  </thead>\n",
       "  <tbody>\n",
       "    <tr>\n",
       "      <th>person_id</th>\n",
       "      <th>count</th>\n",
       "      <td>890</td>\n",
       "      <td>1000</td>\n",
       "      <td>NaN</td>\n",
       "      <td>NaN</td>\n",
       "    </tr>\n",
       "    <tr>\n",
       "      <th>age</th>\n",
       "      <th>mediane_IQR</th>\n",
       "      <td>54.83 (32.6-78.96)</td>\n",
       "      <td>51.91 (25.07-74.2)</td>\n",
       "      <td>0.0007</td>\n",
       "      <td>NaN</td>\n",
       "    </tr>\n",
       "    <tr>\n",
       "      <th>male</th>\n",
       "      <th>prevalence</th>\n",
       "      <td>50.0</td>\n",
       "      <td>50.0</td>\n",
       "      <td>NaN</td>\n",
       "      <td>1.0000</td>\n",
       "    </tr>\n",
       "    <tr>\n",
       "      <th>history_cancer</th>\n",
       "      <th>prevalence</th>\n",
       "      <td>0.9</td>\n",
       "      <td>1.7</td>\n",
       "      <td>NaN</td>\n",
       "      <td>0.1868</td>\n",
       "    </tr>\n",
       "    <tr>\n",
       "      <th>diabetes</th>\n",
       "      <th>prevalence</th>\n",
       "      <td>10.56</td>\n",
       "      <td>10.0</td>\n",
       "      <td>NaN</td>\n",
       "      <td>0.7446</td>\n",
       "    </tr>\n",
       "    <tr>\n",
       "      <th>bmi</th>\n",
       "      <th>mediane_IQR</th>\n",
       "      <td>21.42 (19.56-23.35)</td>\n",
       "      <td>21.64 (19.69-23.5)</td>\n",
       "      <td>0.6816</td>\n",
       "      <td>NaN</td>\n",
       "    </tr>\n",
       "    <tr>\n",
       "      <th>crp</th>\n",
       "      <th>mediane_IQR</th>\n",
       "      <td>4.51 (4.36-4.7)</td>\n",
       "      <td>4.51 (4.35-4.69)</td>\n",
       "      <td>0.8851</td>\n",
       "      <td>NaN</td>\n",
       "    </tr>\n",
       "    <tr>\n",
       "      <th>hb</th>\n",
       "      <th>mediane_IQR</th>\n",
       "      <td>13.54 (12.42-14.57)</td>\n",
       "      <td>13.43 (12.29-14.49)</td>\n",
       "      <td>0.3232</td>\n",
       "      <td>NaN</td>\n",
       "    </tr>\n",
       "    <tr>\n",
       "      <th>urea</th>\n",
       "      <th>mediane_IQR</th>\n",
       "      <td>2.0 (1.75-2.24)</td>\n",
       "      <td>1.98 (1.72-2.24)</td>\n",
       "      <td>0.1040</td>\n",
       "      <td>NaN</td>\n",
       "    </tr>\n",
       "  </tbody>\n",
       "</table>\n",
       "</div>"
      ],
      "text/plain": [
       "drugA                                     False                 True  t-test  \\\n",
       "person_id      count                        890                 1000     NaN   \n",
       "age            mediane_IQR   54.83 (32.6-78.96)   51.91 (25.07-74.2)  0.0007   \n",
       "male           prevalence                  50.0                 50.0     NaN   \n",
       "history_cancer prevalence                   0.9                  1.7     NaN   \n",
       "diabetes       prevalence                 10.56                 10.0     NaN   \n",
       "bmi            mediane_IQR  21.42 (19.56-23.35)   21.64 (19.69-23.5)  0.6816   \n",
       "crp            mediane_IQR      4.51 (4.36-4.7)     4.51 (4.35-4.69)  0.8851   \n",
       "hb             mediane_IQR  13.54 (12.42-14.57)  13.43 (12.29-14.49)  0.3232   \n",
       "urea           mediane_IQR      2.0 (1.75-2.24)     1.98 (1.72-2.24)  0.1040   \n",
       "\n",
       "drugA                       chi-sq  \n",
       "person_id      count           NaN  \n",
       "age            mediane_IQR     NaN  \n",
       "male           prevalence   1.0000  \n",
       "history_cancer prevalence   0.1868  \n",
       "diabetes       prevalence   0.7446  \n",
       "bmi            mediane_IQR     NaN  \n",
       "crp            mediane_IQR     NaN  \n",
       "hb             mediane_IQR     NaN  \n",
       "urea           mediane_IQR     NaN  "
      ]
     },
     "execution_count": 42,
     "metadata": {},
     "output_type": "execute_result"
    }
   ],
   "source": [
    "data_summary"
   ]
  },
  {
   "cell_type": "markdown",
   "metadata": {},
   "source": [
    "Regroup the statistical test results in one column <br>\n",
    "Rename the False and True columns to Cohorte Control and Cohorte avec DrugA respectively"
   ]
  },
  {
   "cell_type": "code",
   "execution_count": 43,
   "metadata": {
    "tags": []
   },
   "outputs": [],
   "source": [
    "data_summary['p_value'] = data_summary['t-test'].fillna(data_summary['chi-sq'])\n",
    "data_summary['p_value'] = data_summary['p_value'].fillna('')"
   ]
  },
  {
   "cell_type": "code",
   "execution_count": 44,
   "metadata": {},
   "outputs": [],
   "source": [
    "data_summary = data_summary.rename(columns = {False : 'Cohorte Control', True : 'Cohorte avec DrugA'})"
   ]
  },
  {
   "cell_type": "code",
   "execution_count": 45,
   "metadata": {},
   "outputs": [
    {
     "data": {
      "text/html": [
       "<div>\n",
       "<style scoped>\n",
       "    .dataframe tbody tr th:only-of-type {\n",
       "        vertical-align: middle;\n",
       "    }\n",
       "\n",
       "    .dataframe tbody tr th {\n",
       "        vertical-align: top;\n",
       "    }\n",
       "\n",
       "    .dataframe thead th {\n",
       "        text-align: right;\n",
       "    }\n",
       "</style>\n",
       "<table border=\"1\" class=\"dataframe\">\n",
       "  <thead>\n",
       "    <tr style=\"text-align: right;\">\n",
       "      <th></th>\n",
       "      <th>drugA</th>\n",
       "      <th>Cohorte Control</th>\n",
       "      <th>Cohorte avec DrugA</th>\n",
       "      <th>p_value</th>\n",
       "    </tr>\n",
       "  </thead>\n",
       "  <tbody>\n",
       "    <tr>\n",
       "      <th>person_id</th>\n",
       "      <th>count</th>\n",
       "      <td>890</td>\n",
       "      <td>1000</td>\n",
       "      <td></td>\n",
       "    </tr>\n",
       "    <tr>\n",
       "      <th>age</th>\n",
       "      <th>mediane_IQR</th>\n",
       "      <td>54.83 (32.6-78.96)</td>\n",
       "      <td>51.91 (25.07-74.2)</td>\n",
       "      <td>0.0007</td>\n",
       "    </tr>\n",
       "    <tr>\n",
       "      <th>male</th>\n",
       "      <th>prevalence</th>\n",
       "      <td>50.0</td>\n",
       "      <td>50.0</td>\n",
       "      <td>1.0</td>\n",
       "    </tr>\n",
       "    <tr>\n",
       "      <th>history_cancer</th>\n",
       "      <th>prevalence</th>\n",
       "      <td>0.9</td>\n",
       "      <td>1.7</td>\n",
       "      <td>0.1868</td>\n",
       "    </tr>\n",
       "    <tr>\n",
       "      <th>diabetes</th>\n",
       "      <th>prevalence</th>\n",
       "      <td>10.56</td>\n",
       "      <td>10.0</td>\n",
       "      <td>0.7446</td>\n",
       "    </tr>\n",
       "    <tr>\n",
       "      <th>bmi</th>\n",
       "      <th>mediane_IQR</th>\n",
       "      <td>21.42 (19.56-23.35)</td>\n",
       "      <td>21.64 (19.69-23.5)</td>\n",
       "      <td>0.6816</td>\n",
       "    </tr>\n",
       "    <tr>\n",
       "      <th>crp</th>\n",
       "      <th>mediane_IQR</th>\n",
       "      <td>4.51 (4.36-4.7)</td>\n",
       "      <td>4.51 (4.35-4.69)</td>\n",
       "      <td>0.8851</td>\n",
       "    </tr>\n",
       "    <tr>\n",
       "      <th>hb</th>\n",
       "      <th>mediane_IQR</th>\n",
       "      <td>13.54 (12.42-14.57)</td>\n",
       "      <td>13.43 (12.29-14.49)</td>\n",
       "      <td>0.3232</td>\n",
       "    </tr>\n",
       "    <tr>\n",
       "      <th>urea</th>\n",
       "      <th>mediane_IQR</th>\n",
       "      <td>2.0 (1.75-2.24)</td>\n",
       "      <td>1.98 (1.72-2.24)</td>\n",
       "      <td>0.104</td>\n",
       "    </tr>\n",
       "  </tbody>\n",
       "</table>\n",
       "</div>"
      ],
      "text/plain": [
       "drugA                           Cohorte Control   Cohorte avec DrugA p_value\n",
       "person_id      count                        890                 1000        \n",
       "age            mediane_IQR   54.83 (32.6-78.96)   51.91 (25.07-74.2)  0.0007\n",
       "male           prevalence                  50.0                 50.0     1.0\n",
       "history_cancer prevalence                   0.9                  1.7  0.1868\n",
       "diabetes       prevalence                 10.56                 10.0  0.7446\n",
       "bmi            mediane_IQR  21.42 (19.56-23.35)   21.64 (19.69-23.5)  0.6816\n",
       "crp            mediane_IQR      4.51 (4.36-4.7)     4.51 (4.35-4.69)  0.8851\n",
       "hb             mediane_IQR  13.54 (12.42-14.57)  13.43 (12.29-14.49)  0.3232\n",
       "urea           mediane_IQR      2.0 (1.75-2.24)     1.98 (1.72-2.24)   0.104"
      ]
     },
     "execution_count": 45,
     "metadata": {},
     "output_type": "execute_result"
    }
   ],
   "source": [
    "data_summary[['Cohorte Control', 'Cohorte avec DrugA', 'p_value']]"
   ]
  },
  {
   "cell_type": "markdown",
   "metadata": {},
   "source": [
    "What can you conclude ?"
   ]
  },
  {
   "cell_type": "markdown",
   "metadata": {},
   "source": [
    "**Correction**:\n",
    "<br>The population are different. The patient taking drugA seem to be younger and have less comorbidities that the patients from the control cohort. "
   ]
  },
  {
   "cell_type": "markdown",
   "metadata": {},
   "source": [
    "# 3. Takeaways"
   ]
  },
  {
   "cell_type": "markdown",
   "metadata": {},
   "source": [
    "Cohorts receiving specific treatments can be selected for their good health. It is very important to make sure the control cohort and the specific cohort are similar in order to be able to draw a significant conclusion of the effect of a treatment. \n",
    "\n",
    "It is of paramount importance to work closely with clinician to be aware of such biases and avoid over-interpretation, as long as performing stratified analyses to have a broader view of the effects."
   ]
  },
  {
   "cell_type": "code",
   "execution_count": null,
   "metadata": {},
   "outputs": [],
   "source": []
  }
 ],
 "metadata": {
  "kernelspec": {
   "display_name": ".venv",
   "language": "python",
   "name": "python3"
  },
  "language_info": {
   "codemirror_mode": {
    "name": "ipython",
    "version": 3
   },
   "file_extension": ".py",
   "mimetype": "text/x-python",
   "name": "python",
   "nbconvert_exporter": "python",
   "pygments_lexer": "ipython3",
   "version": "3.11.9"
  }
 },
 "nbformat": 4,
 "nbformat_minor": 4
}
